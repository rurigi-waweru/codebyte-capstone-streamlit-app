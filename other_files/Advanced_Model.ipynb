{
 "cells": [
  {
   "cell_type": "markdown",
   "id": "7f07984e",
   "metadata": {},
   "source": [
    "## Team Members \n",
    "\n",
    "1. Jessica Mutiso\n",
    "2. Brian Waweru\n",
    "3. Pamela Godia\n",
    "4. Hellen Mwaniki"
   ]
  },
  {
   "cell_type": "markdown",
   "id": "7e5bcc01",
   "metadata": {},
   "source": [
    "## 1. Project Overview \n",
    "\n",
    "This project aims to develop a natural language chatbot capable of generating human-like responses and understanding informal customer feedback expressed in English, Kenyan Swahili and Sheng. Designed for a startup expanding into the Kenyan market, the chatbot will help the company engage users more naturally and analyze feedback from social platforms and online conversations. By training on locally relevant dialogue data  including YouTube comments and Kenyan media the system will capture the linguistic and cultural nuances often missed by standard models.\n",
    "\n"
   ]
  },
  {
   "cell_type": "markdown",
   "id": "6cee6a2e",
   "metadata": {},
   "source": [
    "## 1.1 Problem Statement\n",
    "Startups entering new markets often struggle to understand customer feedback when it's expressed in local dialects or informal language. In Kenya, much of this communication occurs in Swahili and Sheng, which combine local slang, English, and Swahili in a fluid, often unstructured manner. Existing chatbot systems trained on formal English fail to grasp the tone, intent, or meaning behind such messages. This project aims to fill that gap by building a chatbot trained specifically on real-world Kenyan conversations to interpret and respond to customer queries and feedback with local context and relevance."
   ]
  },
  {
   "cell_type": "markdown",
   "id": "0a75c93e",
   "metadata": {},
   "source": [
    "## 1.2 Objectives\n",
    "\n",
    "- Collect and preprocess Kenyan user dialogue from YouTube, social media, and local content featuring Swahili and Sheng\n",
    "\n",
    "- Fine-tune the chatbot with foundational data for conversational structure, while emphasizing local language patterns\n",
    "\n",
    "- Build a sequence-to-sequence model  capable of handling informal, code-switched dialogue\n",
    "\n",
    "- Evaluate the chatbot’s performance with emphasis on contextual relevance and local understanding\n",
    "\n",
    "- Present a working prototype that simulates real customer feedback scenarios "
   ]
  },
  {
   "cell_type": "markdown",
   "id": "0c2dadde",
   "metadata": {},
   "source": [
    "## Overall EDA"
   ]
  },
  {
   "cell_type": "code",
   "execution_count": 1,
   "id": "046223d4",
   "metadata": {},
   "outputs": [],
   "source": [
    "# importing relevant notebooks \n",
    "import pandas as pd \n",
    "import numpy as np\n",
    "import random\n",
    "import ast\n",
    "import re\n",
    "import matplotlib.pyplot as plt\n",
    "import seaborn as sns\n",
    "import string\n"
   ]
  },
  {
   "cell_type": "markdown",
   "id": "f774f14e",
   "metadata": {},
   "source": [
    "## Loading & Inspecting Datasets "
   ]
  },
  {
   "cell_type": "code",
   "execution_count": 2,
   "id": "abe29c16",
   "metadata": {},
   "outputs": [
    {
     "name": "stdout",
     "output_type": "stream",
     "text": [
      "L1045 +++$+++ u0 +++$+++ m0 +++$+++ BIANCA +++$+++ They do not!\n",
      "\n",
      "L1044 +++$+++ u2 +++$+++ m0 +++$+++ CAMERON +++$+++ They do to!\n",
      "\n",
      "L985 +++$+++ u0 +++$+++ m0 +++$+++ BIANCA +++$+++ I hope so.\n",
      "\n",
      "L984 +++$+++ u2 +++$+++ m0 +++$+++ CAMERON +++$+++ She okay?\n",
      "\n",
      "L925 +++$+++ u0 +++$+++ m0 +++$+++ BIANCA +++$+++ Let's go.\n",
      "\n"
     ]
    }
   ],
   "source": [
    "#Reading movie_lines data \n",
    "\n",
    "with open(\"Data\\movie_lines.txt\", encoding='utf-8') as f:\n",
    "    for _ in range(5):\n",
    "        print(f.readline())\n"
   ]
  },
  {
   "cell_type": "code",
   "execution_count": 3,
   "id": "8b43917c",
   "metadata": {},
   "outputs": [
    {
     "name": "stdout",
     "output_type": "stream",
     "text": [
      "video_id,comment\n",
      "\n",
      "qlZM3McwO1Q,What an incredible victory. I agree the Kenyans should have been celebrated at the end. This was an incredible performance.\n",
      "\n",
      "qlZM3McwO1Q,❤\n",
      "\n",
      "qlZM3McwO1Q,“Claudia is an amazonian goddess with a beautiful clam!” - Bruce Wayne\n",
      "\n",
      "qlZM3McwO1Q,Proud of my motherland Kenya ❤❤❤and Africa.at large\n",
      "\n"
     ]
    }
   ],
   "source": [
    "with open(\"Data\\pamela-youtube_comments.csv\", encoding=\"utf-8\") as f:\n",
    "    for _ in range(5):\n",
    "        print(f.readline())\n"
   ]
  },
  {
   "cell_type": "code",
   "execution_count": 4,
   "id": "41a509cd",
   "metadata": {},
   "outputs": [
    {
     "data": {
      "text/html": [
       "<div>\n",
       "<style scoped>\n",
       "    .dataframe tbody tr th:only-of-type {\n",
       "        vertical-align: middle;\n",
       "    }\n",
       "\n",
       "    .dataframe tbody tr th {\n",
       "        vertical-align: top;\n",
       "    }\n",
       "\n",
       "    .dataframe thead th {\n",
       "        text-align: right;\n",
       "    }\n",
       "</style>\n",
       "<table border=\"1\" class=\"dataframe\">\n",
       "  <thead>\n",
       "    <tr style=\"text-align: right;\">\n",
       "      <th></th>\n",
       "      <th>VideoID</th>\n",
       "      <th>comment</th>\n",
       "    </tr>\n",
       "  </thead>\n",
       "  <tbody>\n",
       "    <tr>\n",
       "      <th>0</th>\n",
       "      <td>video_id,comment</td>\n",
       "      <td>NaN</td>\n",
       "    </tr>\n",
       "    <tr>\n",
       "      <th>1</th>\n",
       "      <td>qlZM3McwO1Q,What an incredible victory. I agre...</td>\n",
       "      <td>NaN</td>\n",
       "    </tr>\n",
       "    <tr>\n",
       "      <th>2</th>\n",
       "      <td>qlZM3McwO1Q,â¤</td>\n",
       "      <td>NaN</td>\n",
       "    </tr>\n",
       "    <tr>\n",
       "      <th>3</th>\n",
       "      <td>qlZM3McwO1Q,âClaudia is an amazonian goddess...</td>\n",
       "      <td>NaN</td>\n",
       "    </tr>\n",
       "    <tr>\n",
       "      <th>4</th>\n",
       "      <td>qlZM3McwO1Q,Proud of my motherland Kenya â¤â...</td>\n",
       "      <td>NaN</td>\n",
       "    </tr>\n",
       "  </tbody>\n",
       "</table>\n",
       "</div>"
      ],
      "text/plain": [
       "                                             VideoID  comment\n",
       "0                                   video_id,comment      NaN\n",
       "1  qlZM3McwO1Q,What an incredible victory. I agre...      NaN\n",
       "2                                    qlZM3McwO1Q,â¤      NaN\n",
       "3  qlZM3McwO1Q,âClaudia is an amazonian goddess...      NaN\n",
       "4  qlZM3McwO1Q,Proud of my motherland Kenya â¤â...      NaN"
      ]
     },
     "execution_count": 4,
     "metadata": {},
     "output_type": "execute_result"
    }
   ],
   "source": [
    "columns = [\"VideoID\", \"comment\"]\n",
    "\n",
    "movie_titles = pd.read_csv(\n",
    "    \"Data\\pamela-youtube_comments.csv\",\n",
    "    sep=' \\+\\+\\+\\$\\+\\+\\+ ',\n",
    "    engine='python',\n",
    "    names=columns,\n",
    "    encoding='ISO-8859-1'\n",
    ")\n",
    "\n",
    "movie_titles.head()"
   ]
  },
  {
   "cell_type": "code",
   "execution_count": 5,
   "id": "252200e7",
   "metadata": {},
   "outputs": [
    {
     "name": "stdout",
     "output_type": "stream",
     "text": [
      "Top Comment,Reply\n",
      "\n",
      "\"Apple missed the boat on AI OR... Apple is doing what it always does, waiting for others to prove a new technology, then ride in on their massive platform and take over. Time will tell which statement is true.\",\n",
      "\n",
      "\"Who added the background music to the video its so fucking distracting. It sounds like nier automata bgm, that makes it impossible to focus\",\n",
      "\n",
      "16:26  FEMI KUTI !!! RAAHHH !!!,\n",
      "\n",
      "\"The greatest AI scam in history, is AI.\",\n",
      "\n"
     ]
    }
   ],
   "source": [
    "with open (\"Data/brian_youtube_data_comments.csv\", encoding =\"utf-8\") as f:\n",
    "    for _ in range(5):\n",
    "        print(f.readline())"
   ]
  },
  {
   "cell_type": "code",
   "execution_count": 6,
   "id": "a373b780",
   "metadata": {},
   "outputs": [
    {
     "data": {
      "text/html": [
       "<div>\n",
       "<style scoped>\n",
       "    .dataframe tbody tr th:only-of-type {\n",
       "        vertical-align: middle;\n",
       "    }\n",
       "\n",
       "    .dataframe tbody tr th {\n",
       "        vertical-align: top;\n",
       "    }\n",
       "\n",
       "    .dataframe thead th {\n",
       "        text-align: right;\n",
       "    }\n",
       "</style>\n",
       "<table border=\"1\" class=\"dataframe\">\n",
       "  <thead>\n",
       "    <tr style=\"text-align: right;\">\n",
       "      <th></th>\n",
       "      <th>comment</th>\n",
       "      <th>response</th>\n",
       "    </tr>\n",
       "  </thead>\n",
       "  <tbody>\n",
       "    <tr>\n",
       "      <th>0</th>\n",
       "      <td>ï»¿Top Comment,Reply</td>\n",
       "      <td>NaN</td>\n",
       "    </tr>\n",
       "    <tr>\n",
       "      <th>1</th>\n",
       "      <td>\"Apple missed the boat on AI OR... Apple is do...</td>\n",
       "      <td>NaN</td>\n",
       "    </tr>\n",
       "    <tr>\n",
       "      <th>2</th>\n",
       "      <td>\"Who added the background music to the video i...</td>\n",
       "      <td>NaN</td>\n",
       "    </tr>\n",
       "    <tr>\n",
       "      <th>3</th>\n",
       "      <td>16:26  FEMI KUTI !!! RAAHHH !!!,</td>\n",
       "      <td>NaN</td>\n",
       "    </tr>\n",
       "    <tr>\n",
       "      <th>4</th>\n",
       "      <td>\"The greatest AI scam in history, is AI.\",</td>\n",
       "      <td>NaN</td>\n",
       "    </tr>\n",
       "  </tbody>\n",
       "</table>\n",
       "</div>"
      ],
      "text/plain": [
       "                                             comment  response\n",
       "0                               ï»¿Top Comment,Reply       NaN\n",
       "1  \"Apple missed the boat on AI OR... Apple is do...       NaN\n",
       "2  \"Who added the background music to the video i...       NaN\n",
       "3                   16:26  FEMI KUTI !!! RAAHHH !!!,       NaN\n",
       "4         \"The greatest AI scam in history, is AI.\",       NaN"
      ]
     },
     "execution_count": 6,
     "metadata": {},
     "output_type": "execute_result"
    }
   ],
   "source": [
    "columns = [\"comment\", \"response\"]\n",
    "\n",
    "movie_titles = pd.read_csv(\n",
    "    \"Data/brian_youtube_data_comments.csv\",\n",
    "    sep=' \\+\\+\\+\\$\\+\\+\\+ ',\n",
    "    engine='python',\n",
    "    names=columns,\n",
    "    encoding='ISO-8859-1'\n",
    ")\n",
    "\n",
    "movie_titles.head()"
   ]
  },
  {
   "cell_type": "code",
   "execution_count": 7,
   "id": "bb1f87b7",
   "metadata": {},
   "outputs": [
    {
     "name": "stdout",
     "output_type": "stream",
     "text": [
      "u0 +++$+++ u2 +++$+++ m0 +++$+++ ['L194', 'L195', 'L196', 'L197']\n",
      "\n",
      "u0 +++$+++ u2 +++$+++ m0 +++$+++ ['L198', 'L199']\n",
      "\n",
      "u0 +++$+++ u2 +++$+++ m0 +++$+++ ['L200', 'L201', 'L202', 'L203']\n",
      "\n",
      "u0 +++$+++ u2 +++$+++ m0 +++$+++ ['L204', 'L205', 'L206']\n",
      "\n",
      "u0 +++$+++ u2 +++$+++ m0 +++$+++ ['L207', 'L208']\n",
      "\n"
     ]
    }
   ],
   "source": [
    "## Reading the conversation data\n",
    "\n",
    "with open(\"Data\\movie_conversations.txt\", encoding=\"ISO-8859-1\") as f:\n",
    "    for _ in range(5):\n",
    "        print(f.readline())\n"
   ]
  },
  {
   "cell_type": "code",
   "execution_count": 8,
   "id": "6438d3e2",
   "metadata": {},
   "outputs": [
    {
     "name": "stdout",
     "output_type": "stream",
     "text": [
      "m0 +++$+++ 10 things i hate about you +++$+++ 1999 +++$+++ 6.90 +++$+++ 62847 +++$+++ ['comedy', 'romance']\n",
      "\n",
      "m1 +++$+++ 1492: conquest of paradise +++$+++ 1992 +++$+++ 6.20 +++$+++ 10421 +++$+++ ['adventure', 'biography', 'drama', 'history']\n",
      "\n",
      "m2 +++$+++ 15 minutes +++$+++ 2001 +++$+++ 6.10 +++$+++ 25854 +++$+++ ['action', 'crime', 'drama', 'thriller']\n",
      "\n",
      "m3 +++$+++ 2001: a space odyssey +++$+++ 1968 +++$+++ 8.40 +++$+++ 163227 +++$+++ ['adventure', 'mystery', 'sci-fi']\n",
      "\n",
      "m4 +++$+++ 48 hrs. +++$+++ 1982 +++$+++ 6.90 +++$+++ 22289 +++$+++ ['action', 'comedy', 'crime', 'drama', 'thriller']\n",
      "\n"
     ]
    }
   ],
   "source": [
    "# Reading movie titles data \n",
    "\n",
    "with open (\"Data\\movie_titles_metadata.txt\", encoding= \"ISO-8859-1\") as f:\n",
    "    for _ in range(5):\n",
    "        print(f.readline())"
   ]
  },
  {
   "cell_type": "code",
   "execution_count": 9,
   "id": "423b4058",
   "metadata": {},
   "outputs": [
    {
     "data": {
      "text/html": [
       "<div>\n",
       "<style scoped>\n",
       "    .dataframe tbody tr th:only-of-type {\n",
       "        vertical-align: middle;\n",
       "    }\n",
       "\n",
       "    .dataframe tbody tr th {\n",
       "        vertical-align: top;\n",
       "    }\n",
       "\n",
       "    .dataframe thead th {\n",
       "        text-align: right;\n",
       "    }\n",
       "</style>\n",
       "<table border=\"1\" class=\"dataframe\">\n",
       "  <thead>\n",
       "    <tr style=\"text-align: right;\">\n",
       "      <th></th>\n",
       "      <th>MovieID</th>\n",
       "      <th>Movie Title</th>\n",
       "      <th>Year</th>\n",
       "      <th>Rating</th>\n",
       "      <th>no_votes</th>\n",
       "      <th>Genre</th>\n",
       "    </tr>\n",
       "  </thead>\n",
       "  <tbody>\n",
       "    <tr>\n",
       "      <th>0</th>\n",
       "      <td>m0</td>\n",
       "      <td>10 things i hate about you</td>\n",
       "      <td>1999</td>\n",
       "      <td>6.9</td>\n",
       "      <td>62847</td>\n",
       "      <td>['comedy', 'romance']</td>\n",
       "    </tr>\n",
       "    <tr>\n",
       "      <th>1</th>\n",
       "      <td>m1</td>\n",
       "      <td>1492: conquest of paradise</td>\n",
       "      <td>1992</td>\n",
       "      <td>6.2</td>\n",
       "      <td>10421</td>\n",
       "      <td>['adventure', 'biography', 'drama', 'history']</td>\n",
       "    </tr>\n",
       "    <tr>\n",
       "      <th>2</th>\n",
       "      <td>m2</td>\n",
       "      <td>15 minutes</td>\n",
       "      <td>2001</td>\n",
       "      <td>6.1</td>\n",
       "      <td>25854</td>\n",
       "      <td>['action', 'crime', 'drama', 'thriller']</td>\n",
       "    </tr>\n",
       "    <tr>\n",
       "      <th>3</th>\n",
       "      <td>m3</td>\n",
       "      <td>2001: a space odyssey</td>\n",
       "      <td>1968</td>\n",
       "      <td>8.4</td>\n",
       "      <td>163227</td>\n",
       "      <td>['adventure', 'mystery', 'sci-fi']</td>\n",
       "    </tr>\n",
       "    <tr>\n",
       "      <th>4</th>\n",
       "      <td>m4</td>\n",
       "      <td>48 hrs.</td>\n",
       "      <td>1982</td>\n",
       "      <td>6.9</td>\n",
       "      <td>22289</td>\n",
       "      <td>['action', 'comedy', 'crime', 'drama', 'thrill...</td>\n",
       "    </tr>\n",
       "  </tbody>\n",
       "</table>\n",
       "</div>"
      ],
      "text/plain": [
       "  MovieID                 Movie Title  Year  Rating  no_votes  \\\n",
       "0      m0  10 things i hate about you  1999     6.9     62847   \n",
       "1      m1  1492: conquest of paradise  1992     6.2     10421   \n",
       "2      m2                  15 minutes  2001     6.1     25854   \n",
       "3      m3       2001: a space odyssey  1968     8.4    163227   \n",
       "4      m4                     48 hrs.  1982     6.9     22289   \n",
       "\n",
       "                                               Genre  \n",
       "0                              ['comedy', 'romance']  \n",
       "1     ['adventure', 'biography', 'drama', 'history']  \n",
       "2           ['action', 'crime', 'drama', 'thriller']  \n",
       "3                 ['adventure', 'mystery', 'sci-fi']  \n",
       "4  ['action', 'comedy', 'crime', 'drama', 'thrill...  "
      ]
     },
     "execution_count": 9,
     "metadata": {},
     "output_type": "execute_result"
    }
   ],
   "source": [
    "columns = [\"MovieID\", \"Movie Title\",\"Year\", \"Rating\", \"no_votes\", \"Genre\"]\n",
    "\n",
    "movie_titles = pd.read_csv(\n",
    "    \"Data\\movie_titles_metadata.txt\",\n",
    "    sep=' \\+\\+\\+\\$\\+\\+\\+ ',\n",
    "    engine='python',\n",
    "    names=columns,\n",
    "    encoding='ISO-8859-1'\n",
    ")\n",
    "\n",
    "movie_titles.head()"
   ]
  },
  {
   "cell_type": "code",
   "execution_count": 10,
   "id": "8e5910e2",
   "metadata": {},
   "outputs": [
    {
     "name": "stdout",
     "output_type": "stream",
     "text": [
      "<class 'pandas.core.frame.DataFrame'>\n",
      "RangeIndex: 617 entries, 0 to 616\n",
      "Data columns (total 6 columns):\n",
      " #   Column       Non-Null Count  Dtype  \n",
      "---  ------       --------------  -----  \n",
      " 0   MovieID      617 non-null    object \n",
      " 1   Movie Title  617 non-null    object \n",
      " 2   Year         617 non-null    object \n",
      " 3   Rating       617 non-null    float64\n",
      " 4   no_votes     617 non-null    int64  \n",
      " 5   Genre        617 non-null    object \n",
      "dtypes: float64(1), int64(1), object(4)\n",
      "memory usage: 29.1+ KB\n"
     ]
    }
   ],
   "source": [
    "movie_titles.info()"
   ]
  },
  {
   "cell_type": "markdown",
   "id": "ff24a723",
   "metadata": {},
   "source": [
    "## Data Usage Explanation \n",
    "\n",
    "\n",
    "-  Youtube Dataset (scraped) - Help chatbot understand local expressions, slang, and questions users are actually asking\n",
    "\n",
    "-  Cornell Dataset Teach dialog structure (turn-taking, responses), mostly in English"
   ]
  },
  {
   "cell_type": "markdown",
   "id": "7cc3afe9",
   "metadata": {},
   "source": [
    "## Merging Youtube Datasets"
   ]
  },
  {
   "cell_type": "code",
   "execution_count": 11,
   "id": "be36b8f6",
   "metadata": {},
   "outputs": [
    {
     "name": "stdout",
     "output_type": "stream",
     "text": [
      "Data\\pamela-youtube_comments.csv Columns: ['video_id', 'comment']\n",
      "Data/brian_youtube_data_comments.csv Columns: ['Top Comment', 'Reply']\n"
     ]
    }
   ],
   "source": [
    "\n",
    "# Loading both datasets without filtering columns yet\n",
    "df1 = pd.read_csv(\"Data\\pamela-youtube_comments.csv\")\n",
    "df2 = pd.read_csv(\"Data/brian_youtube_data_comments.csv\")\n",
    "\n",
    "# Printing column names to inspect\n",
    "print(\"Data\\pamela-youtube_comments.csv Columns:\", df1.columns.tolist())\n",
    "print(\"Data/brian_youtube_data_comments.csv Columns:\", df2.columns.tolist())\n"
   ]
  },
  {
   "cell_type": "code",
   "execution_count": 12,
   "id": "5ceb6d34",
   "metadata": {},
   "outputs": [
    {
     "name": "stdout",
     "output_type": "stream",
     "text": [
      "Combined Dataset Shape: (26095, 2)\n"
     ]
    },
    {
     "data": {
      "text/html": [
       "<div>\n",
       "<style scoped>\n",
       "    .dataframe tbody tr th:only-of-type {\n",
       "        vertical-align: middle;\n",
       "    }\n",
       "\n",
       "    .dataframe tbody tr th {\n",
       "        vertical-align: top;\n",
       "    }\n",
       "\n",
       "    .dataframe thead th {\n",
       "        text-align: right;\n",
       "    }\n",
       "</style>\n",
       "<table border=\"1\" class=\"dataframe\">\n",
       "  <thead>\n",
       "    <tr style=\"text-align: right;\">\n",
       "      <th></th>\n",
       "      <th>comment</th>\n",
       "      <th>response</th>\n",
       "    </tr>\n",
       "  </thead>\n",
       "  <tbody>\n",
       "    <tr>\n",
       "      <th>11313</th>\n",
       "      <td>This is so sad.. Women have been tormented wit...</td>\n",
       "      <td>None</td>\n",
       "    </tr>\n",
       "    <tr>\n",
       "      <th>5496</th>\n",
       "      <td>I have watched this video carrying yangu tote😭...</td>\n",
       "      <td>None</td>\n",
       "    </tr>\n",
       "    <tr>\n",
       "      <th>6447</th>\n",
       "      <td>God fight for Winnie</td>\n",
       "      <td>None</td>\n",
       "    </tr>\n",
       "    <tr>\n",
       "      <th>1590</th>\n",
       "      <td>I lost my 2friends who were sister and her dau...</td>\n",
       "      <td>None</td>\n",
       "    </tr>\n",
       "    <tr>\n",
       "      <th>8075</th>\n",
       "      <td>That man is a killer...maybe he has killed soo...</td>\n",
       "      <td>None</td>\n",
       "    </tr>\n",
       "  </tbody>\n",
       "</table>\n",
       "</div>"
      ],
      "text/plain": [
       "                                                 comment response\n",
       "11313  This is so sad.. Women have been tormented wit...     None\n",
       "5496   I have watched this video carrying yangu tote😭...     None\n",
       "6447                                God fight for Winnie     None\n",
       "1590   I lost my 2friends who were sister and her dau...     None\n",
       "8075   That man is a killer...maybe he has killed soo...     None"
      ]
     },
     "metadata": {},
     "output_type": "display_data"
    }
   ],
   "source": [
    "import pandas as pd\n",
    "\n",
    "# Loading both datasets\n",
    "df1 = pd.read_csv(\"Data\\pamela-youtube_comments.csv\")    \n",
    "df2 = pd.read_csv(\"Data/brian_youtube_data_comments.csv\")  \n",
    "\n",
    "# Cleaning df1: keeping only 'comment' and drop nulls\n",
    "df1 = df1[['comment']].dropna()\n",
    "df1['response'] = None  # placeholder column for consistency\n",
    "\n",
    "# Clean df2: renaming columns and dropping nulls\n",
    "df2 = df2.rename(columns={\"Top Comment\": \"comment\", \"Reply\": \"response\"})\n",
    "df2 = df2[['comment', 'response']].dropna()\n",
    "\n",
    "# Combining both dataframes \n",
    "df_combined = pd.concat([df1, df2], ignore_index=True)\n",
    "\n",
    "\n",
    "print(\"Combined Dataset Shape:\", df_combined.shape)\n",
    "display(df_combined.sample(5))\n",
    "\n"
   ]
  },
  {
   "cell_type": "markdown",
   "id": "d232086f",
   "metadata": {},
   "source": [
    "# Comments length Distribution "
   ]
  },
  {
   "cell_type": "code",
   "execution_count": 13,
   "id": "8b4df1c8",
   "metadata": {},
   "outputs": [
    {
     "name": "stderr",
     "output_type": "stream",
     "text": [
      "c:\\Users\\helle\\anaconda3\\envs\\Learn-env2\\Lib\\site-packages\\seaborn\\_oldcore.py:1119: FutureWarning: use_inf_as_na option is deprecated and will be removed in a future version. Convert inf values to NaN before operating instead.\n",
      "  with pd.option_context('mode.use_inf_as_na', True):\n"
     ]
    },
    {
     "data": {
      "image/png": "[encoded data removed]",
      "text/plain": [
       "<Figure size 1000x600 with 1 Axes>"
      ]
     },
     "metadata": {},
     "output_type": "display_data"
    }
   ],
   "source": [
    "import matplotlib.pyplot as plt\n",
    "import seaborn as sns\n",
    "\n",
    "# Adding a new column: comment length (in words)\n",
    "df_combined['comment_length'] = df_combined['comment'].apply(lambda x: len(str(x).split()))\n",
    "\n",
    "# Plotting distribution\n",
    "plt.figure(figsize=(10, 6))\n",
    "sns.histplot(df_combined['comment_length'], bins=30, kde=True, color='skyblue')\n",
    "plt.title(\"Distribution of Comment Lengths (in words)\")\n",
    "plt.xlabel(\"Number of Words per Comment\")\n",
    "plt.ylabel(\"Frequency\")\n",
    "plt.grid(True)\n",
    "plt.show()\n"
   ]
  },
  {
   "cell_type": "markdown",
   "id": "db9c087d",
   "metadata": {},
   "source": [
    "# Top words in comments "
   ]
  },
  {
   "cell_type": "code",
   "execution_count": 14,
   "id": "1a550c46",
   "metadata": {},
   "outputs": [
    {
     "name": "stderr",
     "output_type": "stream",
     "text": [
      "c:\\Users\\helle\\anaconda3\\envs\\Learn-env2\\Lib\\site-packages\\seaborn\\_oldcore.py:1765: FutureWarning: unique with argument that is not not a Series, Index, ExtensionArray, or np.ndarray is deprecated and will raise in a future version.\n",
      "  order = pd.unique(vector)\n"
     ]
    },
    {
     "data": {
      "image/png": "[encoded data removed]",
      "text/plain": [
       "<Figure size 1200x600 with 1 Axes>"
      ]
     },
     "metadata": {},
     "output_type": "display_data"
    }
   ],
   "source": [
    "from collections import Counter\n",
    "import string\n",
    "\n",
    "# Combining all comments into one string\n",
    "all_text = \" \".join(df_combined['comment'].dropna().astype(str)).lower()\n",
    "\n",
    "# Basic tokenization: splitting by space, removing punctuation\n",
    "tokens = [word.strip(string.punctuation) for word in all_text.split()]\n",
    "\n",
    "\n",
    "# Basic tokenization: splitting by space, removing punctuation\n",
    "tokens = [word.strip(string.punctuation) for word in all_text.split()]\n",
    "tokens = [word for word in tokens if word]  \n",
    "\n",
    "# Count frequencies\n",
    "word_freq = Counter(tokens)\n",
    "top_words = word_freq.most_common(20)\n",
    "\n",
    "# Plotting\n",
    "words, counts = zip(*top_words)\n",
    "plt.figure(figsize=(12, 6))\n",
    "sns.barplot(x=list(words), y=list(counts), palette='viridis')\n",
    "plt.title(\"Top 20 Most Frequent Words (Uncleaned)\")\n",
    "plt.xticks(rotation=45)\n",
    "plt.ylabel(\"Count\")\n",
    "plt.show()\n"
   ]
  },
  {
   "cell_type": "markdown",
   "id": "4a703154",
   "metadata": {},
   "source": [
    "# Language Detection and preprocessing - Youtube data \n",
    "\n",
    "Here I want to check the amount of swahili / sheng in my youtube dataset to understand whether the data is efficient to use for training \n"
   ]
  },
  {
   "cell_type": "code",
   "execution_count": 15,
   "id": "50bf7e13",
   "metadata": {},
   "outputs": [],
   "source": [
    "# Preparing tokenized words list\n",
    "\n",
    "from nltk.tokenize import word_tokenize\n",
    "import string\n",
    "\n",
    "\n",
    "all_text = \" \".join(df_combined[\"comment\"].dropna().astype(str).tolist())\n",
    "\n",
    "# Tokenizing\n",
    "tokens = word_tokenize(all_text.lower())\n",
    "\n",
    "# Removing punctuations\n",
    "tokens = [word for word in tokens if word not in string.punctuation]\n"
   ]
  },
  {
   "cell_type": "code",
   "execution_count": 16,
   "id": "3551fd87",
   "metadata": {},
   "outputs": [],
   "source": [
    "sheng_swahili_vocab = {\n",
    "    \"msee\", \"manze\", \"vile\", \"sasa\", \"buda\", \"nani\", \"kiasi\", \"si\", \"poa\", \"kwani\",\n",
    "    \"hapo\", \"ushapata\", \"unadai\", \"ni\", \"aje\", \"nimeona\", \"noma\", \"mbogi\", \"beshte\",\n",
    "    \"wasee\", \"ati\", \"ndio\", \"sana\", \"sijui\", \"nduthi\", \"wewe\", \"kuna\", \"niko\", \"leo\",\n",
    "    \"kesho\", \"shida\", \"rafiki\", \"asante\", \"karibu\", \"mambo\", \"habari\", \"leo\", \"mzuri\"\n",
    "}\n"
   ]
  },
  {
   "cell_type": "code",
   "execution_count": 17,
   "id": "d7575f48",
   "metadata": {},
   "outputs": [
    {
     "name": "stdout",
     "output_type": "stream",
     "text": [
      "Swahili/Sheng word count: 2786\n",
      "Total words: 602079\n",
      "Swahili/Sheng word percentage: 0.46%\n"
     ]
    }
   ],
   "source": [
    "from collections import Counter\n",
    "\n",
    "# Countfing all words \n",
    "word_counts = Counter(tokens)\n",
    "\n",
    "# Counting only Swahili/Sheng words\n",
    "swahili_sheng_counts = {word: count for word, count in word_counts.items() if word in sheng_swahili_vocab}\n",
    "\n",
    "# Total words and total Swahili/Sheng\n",
    "total_words = sum(word_counts.values())\n",
    "total_swahili_sheng = sum(swahili_sheng_counts.values())\n",
    "\n",
    "print(f\"Swahili/Sheng word count: {total_swahili_sheng}\")\n",
    "print(f\"Total words: {total_words}\")\n",
    "print(f\"Swahili/Sheng word percentage: {total_swahili_sheng / total_words:.2%}\")\n"
   ]
  },
  {
   "cell_type": "code",
   "execution_count": 18,
   "id": "32c04b13",
   "metadata": {},
   "outputs": [
    {
     "name": "stdout",
     "output_type": "stream",
     "text": [
      "Top Swahili/Sheng words in dataset:\n",
      "[('ni', 870),\n",
      " ('sana', 518),\n",
      " ('wewe', 201),\n",
      " ('ndio', 166),\n",
      " ('si', 127),\n",
      " ('kuna', 121),\n",
      " ('ati', 116),\n",
      " ('sasa', 92),\n",
      " ('vile', 89),\n",
      " ('hapo', 85),\n",
      " ('kwani', 63),\n",
      " ('aje', 51),\n",
      " ('mambo', 41),\n",
      " ('leo', 40),\n",
      " ('sijui', 37),\n",
      " ('shida', 37),\n",
      " ('nani', 27),\n",
      " ('niko', 17),\n",
      " ('poa', 16),\n",
      " ('mzuri', 12)]\n"
     ]
    }
   ],
   "source": [
    "from pprint import pprint\n",
    "\n",
    "print(\"Top Swahili/Sheng words in dataset:\")\n",
    "pprint(sorted(swahili_sheng_counts.items(), key=lambda x: x[1], reverse=True)[:20])\n"
   ]
  },
  {
   "cell_type": "code",
   "execution_count": 19,
   "id": "256acbf0",
   "metadata": {},
   "outputs": [
    {
     "name": "stdout",
     "output_type": "stream",
     "text": [
      "Requirement already satisfied: langdetect in c:\\users\\helle\\anaconda3\\envs\\learn-env2\\lib\\site-packages (1.0.9)\n",
      "Requirement already satisfied: six in c:\\users\\helle\\anaconda3\\envs\\learn-env2\\lib\\site-packages (from langdetect) (1.16.0)\n",
      "Note: you may need to restart the kernel to use updated packages.\n"
     ]
    }
   ],
   "source": [
    "pip install langdetect"
   ]
  },
  {
   "cell_type": "markdown",
   "id": "ef72d4b6",
   "metadata": {},
   "source": [
    "## Swahili words in the Yotube Combined Dataset"
   ]
  },
  {
   "cell_type": "code",
   "execution_count": 20,
   "id": "06f9c75a",
   "metadata": {},
   "outputs": [
    {
     "name": "stderr",
     "output_type": "stream",
     "text": [
      "100%|██████████| 26095/26095 [03:16<00:00, 132.63it/s]"
     ]
    },
    {
     "name": "stdout",
     "output_type": "stream",
     "text": [
      "Swahili comments: 1815 / 26095 (6.96%)\n"
     ]
    },
    {
     "name": "stderr",
     "output_type": "stream",
     "text": [
      "\n"
     ]
    }
   ],
   "source": [
    "from langdetect import detect, LangDetectException\n",
    "from tqdm import tqdm\n",
    "import re\n",
    "\n",
    "tqdm.pandas()\n",
    "\n",
    "def safe_detect(text):\n",
    "    try:\n",
    "        text = str(text).strip()\n",
    "    \n",
    "        cleaned = re.sub(r'[^a-zA-Z]', '', text)  # Removing digits and punctuation, keep only alphabetic characters\n",
    "        if len(cleaned) < 5:\n",
    "            return \"unknown\"\n",
    "        return detect(text)\n",
    "    except LangDetectException:\n",
    "        return \"unknown\"\n",
    "\n",
    "df_combined[\"language\"] = df_combined[\"comment\"].progress_apply(safe_detect)\n",
    "\n",
    "# Count Swahili comments (ISO 639-1 code for Swahili is 'sw')\n",
    "swahili_count = df_combined[df_combined[\"language\"] == \"sw\"][\"comment\"].count()\n",
    "total = df_combined[\"comment\"].count()\n",
    "\n",
    "print(f\"Swahili comments: {swahili_count} / {total} ({(swahili_count/total):.2%})\")\n"
   ]
  },
  {
   "cell_type": "code",
   "execution_count": 21,
   "id": "5a0a786f",
   "metadata": {},
   "outputs": [
    {
     "data": {
      "text/html": [
       "<div>\n",
       "<style scoped>\n",
       "    .dataframe tbody tr th:only-of-type {\n",
       "        vertical-align: middle;\n",
       "    }\n",
       "\n",
       "    .dataframe tbody tr th {\n",
       "        vertical-align: top;\n",
       "    }\n",
       "\n",
       "    .dataframe thead th {\n",
       "        text-align: right;\n",
       "    }\n",
       "</style>\n",
       "<table border=\"1\" class=\"dataframe\">\n",
       "  <thead>\n",
       "    <tr style=\"text-align: right;\">\n",
       "      <th></th>\n",
       "      <th>comment</th>\n",
       "      <th>response</th>\n",
       "      <th>comment_length</th>\n",
       "      <th>language</th>\n",
       "    </tr>\n",
       "  </thead>\n",
       "  <tbody>\n",
       "    <tr>\n",
       "      <th>0</th>\n",
       "      <td>What an incredible victory. I agree the Kenyan...</td>\n",
       "      <td>None</td>\n",
       "      <td>20</td>\n",
       "      <td>en</td>\n",
       "    </tr>\n",
       "    <tr>\n",
       "      <th>1</th>\n",
       "      <td>❤</td>\n",
       "      <td>None</td>\n",
       "      <td>1</td>\n",
       "      <td>unknown</td>\n",
       "    </tr>\n",
       "    <tr>\n",
       "      <th>2</th>\n",
       "      <td>“Claudia is an amazonian goddess with a beauti...</td>\n",
       "      <td>None</td>\n",
       "      <td>12</td>\n",
       "      <td>en</td>\n",
       "    </tr>\n",
       "    <tr>\n",
       "      <th>3</th>\n",
       "      <td>Proud of my motherland Kenya ❤❤❤and Africa.at ...</td>\n",
       "      <td>None</td>\n",
       "      <td>8</td>\n",
       "      <td>en</td>\n",
       "    </tr>\n",
       "    <tr>\n",
       "      <th>4</th>\n",
       "      <td>Damn</td>\n",
       "      <td>None</td>\n",
       "      <td>1</td>\n",
       "      <td>unknown</td>\n",
       "    </tr>\n",
       "    <tr>\n",
       "      <th>5</th>\n",
       "      <td>Kenya you should proud of yr self❤❤❤❤</td>\n",
       "      <td>None</td>\n",
       "      <td>7</td>\n",
       "      <td>en</td>\n",
       "    </tr>\n",
       "    <tr>\n",
       "      <th>6</th>\n",
       "      <td>Well done team Kenya❤</td>\n",
       "      <td>None</td>\n",
       "      <td>4</td>\n",
       "      <td>id</td>\n",
       "    </tr>\n",
       "    <tr>\n",
       "      <th>7</th>\n",
       "      <td>This channel is racist! Report the channel, it...</td>\n",
       "      <td>None</td>\n",
       "      <td>24</td>\n",
       "      <td>en</td>\n",
       "    </tr>\n",
       "    <tr>\n",
       "      <th>8</th>\n",
       "      <td>Congs Kenya, lots of love from Uganda</td>\n",
       "      <td>None</td>\n",
       "      <td>7</td>\n",
       "      <td>en</td>\n",
       "    </tr>\n",
       "    <tr>\n",
       "      <th>9</th>\n",
       "      <td>Just WOW Kenya, what a run, what a stamina!</td>\n",
       "      <td>None</td>\n",
       "      <td>9</td>\n",
       "      <td>en</td>\n",
       "    </tr>\n",
       "  </tbody>\n",
       "</table>\n",
       "</div>"
      ],
      "text/plain": [
       "                                             comment response  comment_length  \\\n",
       "0  What an incredible victory. I agree the Kenyan...     None              20   \n",
       "1                                                  ❤     None               1   \n",
       "2  “Claudia is an amazonian goddess with a beauti...     None              12   \n",
       "3  Proud of my motherland Kenya ❤❤❤and Africa.at ...     None               8   \n",
       "4                                               Damn     None               1   \n",
       "5              Kenya you should proud of yr self❤❤❤❤     None               7   \n",
       "6                              Well done team Kenya❤     None               4   \n",
       "7  This channel is racist! Report the channel, it...     None              24   \n",
       "8              Congs Kenya, lots of love from Uganda     None               7   \n",
       "9        Just WOW Kenya, what a run, what a stamina!     None               9   \n",
       "\n",
       "  language  \n",
       "0       en  \n",
       "1  unknown  \n",
       "2       en  \n",
       "3       en  \n",
       "4  unknown  \n",
       "5       en  \n",
       "6       id  \n",
       "7       en  \n",
       "8       en  \n",
       "9       en  "
      ]
     },
     "execution_count": 21,
     "metadata": {},
     "output_type": "execute_result"
    }
   ],
   "source": [
    "df_combined. head(10)"
   ]
  },
  {
   "cell_type": "code",
   "execution_count": 22,
   "id": "3af4eb60",
   "metadata": {},
   "outputs": [],
   "source": [
    "# Phrases with combined Swahili and English (Code-switched comments)\n",
    "\n",
    "def detect_code_switch(text):\n",
    "    try:\n",
    "        langs = detect_langs(text)\n",
    "        lang_set = {lang.lang for lang in langs}\n",
    "        return 'en' in lang_set and 'sw' in lang_set\n",
    "    except LangDetectException:\n",
    "        return False\n"
   ]
  },
  {
   "cell_type": "code",
   "execution_count": 23,
   "id": "53acaef0",
   "metadata": {},
   "outputs": [],
   "source": [
    "from langdetect import detect_langs\n"
   ]
  },
  {
   "cell_type": "code",
   "execution_count": 25,
   "id": "1b82e163",
   "metadata": {},
   "outputs": [],
   "source": [
    "df_combined[\"code_switched\"] = df_combined[\"comment\"].astype(str).apply(detect_code_switch)\n"
   ]
  },
  {
   "cell_type": "code",
   "execution_count": 26,
   "id": "5d6bee4f",
   "metadata": {},
   "outputs": [
    {
     "name": "stdout",
     "output_type": "stream",
     "text": [
      "1.88% of comments are code-switched.\n"
     ]
    }
   ],
   "source": [
    "percentage = (df_combined[\"code_switched\"].sum() / len(df_combined)) * 100\n",
    "print(f\"{percentage:.2f}% of comments are code-switched.\")\n"
   ]
  },
  {
   "cell_type": "markdown",
   "id": "5aec6b04",
   "metadata": {},
   "source": [
    "## Findings from the Youtube data Inspection \n",
    "\n",
    "- There is Low prevalence of Swahili/Sheng (less than 0.5%) in the dataset.\n",
    "- This likely meant most comments are in English, or the Swahili/Sheng vocabulary list is too small to capture what's actually Swahili/Sheng.\n",
    "\n",
    "  Inspecting phrases with language switching show that : \n",
    "   - only a small fraction of the YouTube data contains both English and Swahili within the same comment."
   ]
  },
  {
   "cell_type": "markdown",
   "id": "ba49371c",
   "metadata": {},
   "source": [
    "## Introducing dataset with more swahili words \n",
    "\n",
    "I decided to load the allenai/c4 dataset from Hugging Face.\n"
   ]
  },
  {
   "cell_type": "code",
   "execution_count": 27,
   "id": "a9d6687c",
   "metadata": {},
   "outputs": [],
   "source": [
    "!pip install -q datasets\n"
   ]
  },
  {
   "cell_type": "code",
   "execution_count": 28,
   "id": "ac3937b8",
   "metadata": {},
   "outputs": [
    {
     "name": "stderr",
     "output_type": "stream",
     "text": [
      "c:\\Users\\helle\\anaconda3\\envs\\Learn-env2\\Lib\\site-packages\\tqdm\\auto.py:21: TqdmWarning: IProgress not found. Please update jupyter and ipywidgets. See https://ipywidgets.readthedocs.io/en/stable/user_install.html\n",
      "  from .autonotebook import tqdm as notebook_tqdm\n"
     ]
    }
   ],
   "source": [
    "from datasets import load_dataset"
   ]
  },
  {
   "cell_type": "code",
   "execution_count": 29,
   "id": "ca3cf75a",
   "metadata": {},
   "outputs": [
    {
     "name": "stderr",
     "output_type": "stream",
     "text": [
      "Using the latest cached version of the dataset since allenai/c4 couldn't be found on the Hugging Face Hub\n",
      "Found the latest cached dataset configuration 'sw' at C:\\Users\\helle\\.cache\\huggingface\\datasets\\allenai___c4\\sw\\0.0.0\\1588ec454efa1a09f29cd18ddd04fe05fc8653a2 (last modified on Tue Jul 22 16:41:33 2025).\n"
     ]
    }
   ],
   "source": [
    "swahili_data = load_dataset(\"allenai/c4\", name=\"sw\", split=\"train[:1%]\")"
   ]
  },
  {
   "cell_type": "code",
   "execution_count": 30,
   "id": "d76ea30e",
   "metadata": {},
   "outputs": [
    {
     "name": "stdout",
     "output_type": "stream",
     "text": [
      "                                             comment           timestamp  \\\n",
      "0  2016 - 75 Miaka Meiringen Air Base - AviaSpott... 2019-10-16 05:11:38   \n",
      "1  JENIFFER KYAKA (ODAMA): J FIML 4 LIFE: Lulu Ha... 2018-07-22 08:54:40   \n",
      "2  Imewekwa: July 13th, 2018\\n“Marufuku watoto ku... 2019-06-19 13:00:43   \n",
      "3  Kipengele Ngono na Ukahaba katika Cebu Wasicha... 2018-12-10 13:10:19   \n",
      "4  KINGOTANZANIA:: HABARI, PICHA NA MATANGAZO: MA... 2017-08-20 13:33:24   \n",
      "\n",
      "                                                 url  \n",
      "0  https://www.aviaspotter.it/75-jahre-militarflu...  \n",
      "1  http://odama1.blogspot.com/2015/12/lulu-haishi...  \n",
      "2  http://ilejedc.go.tz/new/marufuku-watoto-kuone...  \n",
      "3  https://sw.videochat.ph/sex-chat-roulette-phil...  \n",
      "4  http://kingotanzania.blogspot.com/2012/10/maua...  \n"
     ]
    }
   ],
   "source": [
    "# Converting sampled data to dataframe \n",
    "\n",
    "additional_sw_df = pd.DataFrame(swahili_data)\n",
    "\n",
    "additional_sw_df.rename(columns={\"text\": \"comment\"}, inplace=True)\n",
    "\n",
    "print(additional_sw_df.head())"
   ]
  },
  {
   "cell_type": "code",
   "execution_count": 31,
   "id": "faab4ac3",
   "metadata": {},
   "outputs": [
    {
     "name": "stdout",
     "output_type": "stream",
     "text": [
      "Original YouTube rows: 26095\n",
      "CC100 (Swahili) sample rows: 9857\n",
      "Combined total rows: 35952\n"
     ]
    },
    {
     "data": {
      "text/html": [
       "<div>\n",
       "<style scoped>\n",
       "    .dataframe tbody tr th:only-of-type {\n",
       "        vertical-align: middle;\n",
       "    }\n",
       "\n",
       "    .dataframe tbody tr th {\n",
       "        vertical-align: top;\n",
       "    }\n",
       "\n",
       "    .dataframe thead th {\n",
       "        text-align: right;\n",
       "    }\n",
       "</style>\n",
       "<table border=\"1\" class=\"dataframe\">\n",
       "  <thead>\n",
       "    <tr style=\"text-align: right;\">\n",
       "      <th></th>\n",
       "      <th>comment</th>\n",
       "      <th>response</th>\n",
       "      <th>comment_length</th>\n",
       "      <th>language</th>\n",
       "      <th>code_switched</th>\n",
       "      <th>timestamp</th>\n",
       "      <th>url</th>\n",
       "    </tr>\n",
       "  </thead>\n",
       "  <tbody>\n",
       "    <tr>\n",
       "      <th>0</th>\n",
       "      <td>Serah resembles Sarah wa Kabu</td>\n",
       "      <td>None</td>\n",
       "      <td>5.0</td>\n",
       "      <td>id</td>\n",
       "      <td>False</td>\n",
       "      <td>NaT</td>\n",
       "      <td>NaN</td>\n",
       "    </tr>\n",
       "    <tr>\n",
       "      <th>1</th>\n",
       "      <td>Take heart..sisy..God will always intercede 4 ...</td>\n",
       "      <td>None</td>\n",
       "      <td>9.0</td>\n",
       "      <td>en</td>\n",
       "      <td>False</td>\n",
       "      <td>NaT</td>\n",
       "      <td>NaN</td>\n",
       "    </tr>\n",
       "    <tr>\n",
       "      <th>2</th>\n",
       "      <td>VIDEO: “Siwezi kuzungumzia refa, nimepewa timu...</td>\n",
       "      <td>NaN</td>\n",
       "      <td>NaN</td>\n",
       "      <td>NaN</td>\n",
       "      <td>NaN</td>\n",
       "      <td>2020-01-18 12:38:49</td>\n",
       "      <td>https://millardayo.com/juhyhhn/</td>\n",
       "    </tr>\n",
       "    <tr>\n",
       "      <th>3</th>\n",
       "      <td>I tried to watch this a month ago,but I couldn...</td>\n",
       "      <td>None</td>\n",
       "      <td>26.0</td>\n",
       "      <td>en</td>\n",
       "      <td>False</td>\n",
       "      <td>NaT</td>\n",
       "      <td>NaN</td>\n",
       "    </tr>\n",
       "    <tr>\n",
       "      <th>4</th>\n",
       "      <td>WAKULIMA WAANZA KUUZA KOROSHO KWA BEI YA SH 3,...</td>\n",
       "      <td>NaN</td>\n",
       "      <td>NaN</td>\n",
       "      <td>NaN</td>\n",
       "      <td>NaN</td>\n",
       "      <td>2018-11-14 01:19:46</td>\n",
       "      <td>http://mtanzania.co.tz/wakulima-waanza-kuuza-k...</td>\n",
       "    </tr>\n",
       "  </tbody>\n",
       "</table>\n",
       "</div>"
      ],
      "text/plain": [
       "                                             comment response  comment_length  \\\n",
       "0                      Serah resembles Sarah wa Kabu     None             5.0   \n",
       "1  Take heart..sisy..God will always intercede 4 ...     None             9.0   \n",
       "2  VIDEO: “Siwezi kuzungumzia refa, nimepewa timu...      NaN             NaN   \n",
       "3  I tried to watch this a month ago,but I couldn...     None            26.0   \n",
       "4  WAKULIMA WAANZA KUUZA KOROSHO KWA BEI YA SH 3,...      NaN             NaN   \n",
       "\n",
       "  language code_switched           timestamp  \\\n",
       "0       id         False                 NaT   \n",
       "1       en         False                 NaT   \n",
       "2      NaN           NaN 2020-01-18 12:38:49   \n",
       "3       en         False                 NaT   \n",
       "4      NaN           NaN 2018-11-14 01:19:46   \n",
       "\n",
       "                                                 url  \n",
       "0                                                NaN  \n",
       "1                                                NaN  \n",
       "2                    https://millardayo.com/juhyhhn/  \n",
       "3                                                NaN  \n",
       "4  http://mtanzania.co.tz/wakulima-waanza-kuuza-k...  "
      ]
     },
     "execution_count": 31,
     "metadata": {},
     "output_type": "execute_result"
    }
   ],
   "source": [
    "# merging the combined youtube dataset with the additional swahili dataset \n",
    "\n",
    "df_combined_extended = pd.concat([df_combined, additional_sw_df], ignore_index=True)\n",
    "                                 \n",
    "# Shuffling to ensure better mixing of both sources(Prevents model from overfitting to the structure/order of the data)\n",
    "\n",
    "df_combined_extended = df_combined_extended.sample(frac=1).reset_index(drop=True)\n",
    "\n",
    "\n",
    "print(f\"Original YouTube rows: {len(df_combined)}\")\n",
    "print(f\"CC100 (Swahili) sample rows: {len(additional_sw_df)}\")\n",
    "print(f\"Combined total rows: {len(df_combined_extended)}\")\n",
    "df_combined_extended.head()"
   ]
  },
  {
   "cell_type": "markdown",
   "id": "13da7b33",
   "metadata": {},
   "source": [
    "## Cleaning & Preprocessing combined dataset"
   ]
  },
  {
   "cell_type": "code",
   "execution_count": 32,
   "id": "ff37dd77",
   "metadata": {},
   "outputs": [
    {
     "data": {
      "text/html": [
       "<div>\n",
       "<style scoped>\n",
       "    .dataframe tbody tr th:only-of-type {\n",
       "        vertical-align: middle;\n",
       "    }\n",
       "\n",
       "    .dataframe tbody tr th {\n",
       "        vertical-align: top;\n",
       "    }\n",
       "\n",
       "    .dataframe thead th {\n",
       "        text-align: right;\n",
       "    }\n",
       "</style>\n",
       "<table border=\"1\" class=\"dataframe\">\n",
       "  <thead>\n",
       "    <tr style=\"text-align: right;\">\n",
       "      <th></th>\n",
       "      <th>comment</th>\n",
       "      <th>response</th>\n",
       "      <th>comment_length</th>\n",
       "      <th>language</th>\n",
       "      <th>code_switched</th>\n",
       "      <th>timestamp</th>\n",
       "      <th>url</th>\n",
       "    </tr>\n",
       "  </thead>\n",
       "  <tbody>\n",
       "    <tr>\n",
       "      <th>0</th>\n",
       "      <td>serah resembles sarah wa kabu</td>\n",
       "      <td>None</td>\n",
       "      <td>5.0</td>\n",
       "      <td>id</td>\n",
       "      <td>False</td>\n",
       "      <td>NaT</td>\n",
       "      <td>NaN</td>\n",
       "    </tr>\n",
       "    <tr>\n",
       "      <th>1</th>\n",
       "      <td>take heart..sisy..god will always intercede 4 ...</td>\n",
       "      <td>None</td>\n",
       "      <td>9.0</td>\n",
       "      <td>en</td>\n",
       "      <td>False</td>\n",
       "      <td>NaT</td>\n",
       "      <td>NaN</td>\n",
       "    </tr>\n",
       "    <tr>\n",
       "      <th>2</th>\n",
       "      <td>video: “siwezi kuzungumzia refa, nimepewa timu...</td>\n",
       "      <td>NaN</td>\n",
       "      <td>NaN</td>\n",
       "      <td>NaN</td>\n",
       "      <td>NaN</td>\n",
       "      <td>2020-01-18 12:38:49</td>\n",
       "      <td>https://millardayo.com/juhyhhn/</td>\n",
       "    </tr>\n",
       "    <tr>\n",
       "      <th>3</th>\n",
       "      <td>i tried to watch this a month ago,but i couldn...</td>\n",
       "      <td>None</td>\n",
       "      <td>26.0</td>\n",
       "      <td>en</td>\n",
       "      <td>False</td>\n",
       "      <td>NaT</td>\n",
       "      <td>NaN</td>\n",
       "    </tr>\n",
       "    <tr>\n",
       "      <th>4</th>\n",
       "      <td>wakulima waanza kuuza korosho kwa bei ya sh 3,...</td>\n",
       "      <td>NaN</td>\n",
       "      <td>NaN</td>\n",
       "      <td>NaN</td>\n",
       "      <td>NaN</td>\n",
       "      <td>2018-11-14 01:19:46</td>\n",
       "      <td>http://mtanzania.co.tz/wakulima-waanza-kuuza-k...</td>\n",
       "    </tr>\n",
       "    <tr>\n",
       "      <th>5</th>\n",
       "      <td>ministry of education, science and technology ...</td>\n",
       "      <td>NaN</td>\n",
       "      <td>NaN</td>\n",
       "      <td>NaN</td>\n",
       "      <td>NaN</td>\n",
       "      <td>2019-03-21 20:42:54</td>\n",
       "      <td>http://www.moe.go.tz/sw/component/k2/item/2013...</td>\n",
       "    </tr>\n",
       "    <tr>\n",
       "      <th>6</th>\n",
       "      <td>&gt; mkuu wa mkoa atoa agizo baada ya kupokea vit...</td>\n",
       "      <td>NaN</td>\n",
       "      <td>NaN</td>\n",
       "      <td>NaN</td>\n",
       "      <td>NaN</td>\n",
       "      <td>2018-11-13 16:47:18</td>\n",
       "      <td>http://www.msumbanews.co.tz/2018/05/mkuu-wa-mk...</td>\n",
       "    </tr>\n",
       "    <tr>\n",
       "      <th>7</th>\n",
       "      <td>men and women who enter as extras into these r...</td>\n",
       "      <td>None</td>\n",
       "      <td>25.0</td>\n",
       "      <td>en</td>\n",
       "      <td>False</td>\n",
       "      <td>NaT</td>\n",
       "      <td>NaN</td>\n",
       "    </tr>\n",
       "    <tr>\n",
       "      <th>8</th>\n",
       "      <td>why do i feel so disgusted 🤦, upuzi tupu. it's...</td>\n",
       "      <td>None</td>\n",
       "      <td>15.0</td>\n",
       "      <td>en</td>\n",
       "      <td>False</td>\n",
       "      <td>NaT</td>\n",
       "      <td>NaN</td>\n",
       "    </tr>\n",
       "    <tr>\n",
       "      <th>9</th>\n",
       "      <td>we should also pray to god that father he will...</td>\n",
       "      <td>None</td>\n",
       "      <td>49.0</td>\n",
       "      <td>en</td>\n",
       "      <td>False</td>\n",
       "      <td>NaT</td>\n",
       "      <td>NaN</td>\n",
       "    </tr>\n",
       "  </tbody>\n",
       "</table>\n",
       "</div>"
      ],
      "text/plain": [
       "                                             comment response  comment_length  \\\n",
       "0                      serah resembles sarah wa kabu     None             5.0   \n",
       "1  take heart..sisy..god will always intercede 4 ...     None             9.0   \n",
       "2  video: “siwezi kuzungumzia refa, nimepewa timu...      NaN             NaN   \n",
       "3  i tried to watch this a month ago,but i couldn...     None            26.0   \n",
       "4  wakulima waanza kuuza korosho kwa bei ya sh 3,...      NaN             NaN   \n",
       "5  ministry of education, science and technology ...      NaN             NaN   \n",
       "6  > mkuu wa mkoa atoa agizo baada ya kupokea vit...      NaN             NaN   \n",
       "7  men and women who enter as extras into these r...     None            25.0   \n",
       "8  why do i feel so disgusted 🤦, upuzi tupu. it's...     None            15.0   \n",
       "9  we should also pray to god that father he will...     None            49.0   \n",
       "\n",
       "  language code_switched           timestamp  \\\n",
       "0       id         False                 NaT   \n",
       "1       en         False                 NaT   \n",
       "2      NaN           NaN 2020-01-18 12:38:49   \n",
       "3       en         False                 NaT   \n",
       "4      NaN           NaN 2018-11-14 01:19:46   \n",
       "5      NaN           NaN 2019-03-21 20:42:54   \n",
       "6      NaN           NaN 2018-11-13 16:47:18   \n",
       "7       en         False                 NaT   \n",
       "8       en         False                 NaT   \n",
       "9       en         False                 NaT   \n",
       "\n",
       "                                                 url  \n",
       "0                                                NaN  \n",
       "1                                                NaN  \n",
       "2                    https://millardayo.com/juhyhhn/  \n",
       "3                                                NaN  \n",
       "4  http://mtanzania.co.tz/wakulima-waanza-kuuza-k...  \n",
       "5  http://www.moe.go.tz/sw/component/k2/item/2013...  \n",
       "6  http://www.msumbanews.co.tz/2018/05/mkuu-wa-mk...  \n",
       "7                                                NaN  \n",
       "8                                                NaN  \n",
       "9                                                NaN  "
      ]
     },
     "execution_count": 32,
     "metadata": {},
     "output_type": "execute_result"
    }
   ],
   "source": [
    "# Drop rows where 'comment' is completely missing\n",
    "df_combined_extended = df_combined_extended.dropna(subset=['comment'])\n",
    "\n",
    "# Strip, lowercase, and remove URLs & excess whitespace\n",
    "\n",
    "def clean_comment(text):\n",
    "    text = str(text).lower().strip()  \n",
    "    text = re.sub(r\"http\\S+|www.\\S+\", \"\", text)  \n",
    "    text = re.sub(r'\\s+', ' ', text) \n",
    "    return text\n",
    "\n",
    "df_combined_extended['comment'] = df_combined_extended['comment'].apply(clean_comment)\n",
    "\n",
    "df_combined_extended. head(10)"
   ]
  },
  {
   "cell_type": "code",
   "execution_count": 33,
   "id": "f5b739d6",
   "metadata": {},
   "outputs": [],
   "source": [
    "# Recalculating comment length (Helps analyze and filter comments (e.g., remove extremely short or long ones).\n",
    "\n",
    "\n",
    "df_combined_extended['comment_length'] = df_combined_extended['comment'].apply(lambda x: len(x.split()))\n",
    "\n",
    "# Detecting language only if missing\n",
    "def safe_detect(text):\n",
    "    try:\n",
    "        return detect(text)\n",
    "    except LangDetectException:\n",
    "        return \"unknown\"\n",
    "\n",
    "df_combined_extended['language'] = df_combined_extended['language'].fillna(df_combined_extended['comment'].apply(safe_detect))\n",
    "\n"
   ]
  },
  {
   "cell_type": "code",
   "execution_count": 34,
   "id": "d99d4985",
   "metadata": {},
   "outputs": [
    {
     "name": "stderr",
     "output_type": "stream",
     "text": [
      "C:\\Users\\helle\\AppData\\Local\\Temp\\ipykernel_19028\\634148301.py:9: FutureWarning: Downcasting object dtype arrays on .fillna, .ffill, .bfill is deprecated and will change in a future version. Call result.infer_objects(copy=False) instead. To opt-in to the future behavior, set `pd.set_option('future.no_silent_downcasting', True)`\n",
      "  df_combined_extended['code_switched'] = df_combined_extended['code_switched'].fillna(False)\n"
     ]
    },
    {
     "data": {
      "text/html": [
       "<div>\n",
       "<style scoped>\n",
       "    .dataframe tbody tr th:only-of-type {\n",
       "        vertical-align: middle;\n",
       "    }\n",
       "\n",
       "    .dataframe tbody tr th {\n",
       "        vertical-align: top;\n",
       "    }\n",
       "\n",
       "    .dataframe thead th {\n",
       "        text-align: right;\n",
       "    }\n",
       "</style>\n",
       "<table border=\"1\" class=\"dataframe\">\n",
       "  <thead>\n",
       "    <tr style=\"text-align: right;\">\n",
       "      <th></th>\n",
       "      <th>comment</th>\n",
       "      <th>response</th>\n",
       "      <th>comment_length</th>\n",
       "      <th>language</th>\n",
       "      <th>code_switched</th>\n",
       "    </tr>\n",
       "  </thead>\n",
       "  <tbody>\n",
       "    <tr>\n",
       "      <th>0</th>\n",
       "      <td>serah resembles sarah wa kabu</td>\n",
       "      <td>no_response</td>\n",
       "      <td>5</td>\n",
       "      <td>id</td>\n",
       "      <td>False</td>\n",
       "    </tr>\n",
       "    <tr>\n",
       "      <th>1</th>\n",
       "      <td>take heart..sisy..god will always intercede 4 ...</td>\n",
       "      <td>no_response</td>\n",
       "      <td>9</td>\n",
       "      <td>en</td>\n",
       "      <td>False</td>\n",
       "    </tr>\n",
       "    <tr>\n",
       "      <th>2</th>\n",
       "      <td>video: “siwezi kuzungumzia refa, nimepewa timu...</td>\n",
       "      <td>no_response</td>\n",
       "      <td>113</td>\n",
       "      <td>sw</td>\n",
       "      <td>False</td>\n",
       "    </tr>\n",
       "    <tr>\n",
       "      <th>3</th>\n",
       "      <td>i tried to watch this a month ago,but i couldn...</td>\n",
       "      <td>no_response</td>\n",
       "      <td>26</td>\n",
       "      <td>en</td>\n",
       "      <td>False</td>\n",
       "    </tr>\n",
       "    <tr>\n",
       "      <th>4</th>\n",
       "      <td>wakulima waanza kuuza korosho kwa bei ya sh 3,...</td>\n",
       "      <td>no_response</td>\n",
       "      <td>491</td>\n",
       "      <td>sw</td>\n",
       "      <td>False</td>\n",
       "    </tr>\n",
       "    <tr>\n",
       "      <th>5</th>\n",
       "      <td>ministry of education, science and technology ...</td>\n",
       "      <td>no_response</td>\n",
       "      <td>258</td>\n",
       "      <td>sw</td>\n",
       "      <td>False</td>\n",
       "    </tr>\n",
       "    <tr>\n",
       "      <th>6</th>\n",
       "      <td>&gt; mkuu wa mkoa atoa agizo baada ya kupokea vit...</td>\n",
       "      <td>no_response</td>\n",
       "      <td>206</td>\n",
       "      <td>sw</td>\n",
       "      <td>False</td>\n",
       "    </tr>\n",
       "    <tr>\n",
       "      <th>7</th>\n",
       "      <td>men and women who enter as extras into these r...</td>\n",
       "      <td>no_response</td>\n",
       "      <td>25</td>\n",
       "      <td>en</td>\n",
       "      <td>False</td>\n",
       "    </tr>\n",
       "    <tr>\n",
       "      <th>8</th>\n",
       "      <td>why do i feel so disgusted 🤦, upuzi tupu. it's...</td>\n",
       "      <td>no_response</td>\n",
       "      <td>15</td>\n",
       "      <td>en</td>\n",
       "      <td>False</td>\n",
       "    </tr>\n",
       "    <tr>\n",
       "      <th>9</th>\n",
       "      <td>we should also pray to god that father he will...</td>\n",
       "      <td>no_response</td>\n",
       "      <td>49</td>\n",
       "      <td>en</td>\n",
       "      <td>False</td>\n",
       "    </tr>\n",
       "    <tr>\n",
       "      <th>10</th>\n",
       "      <td>😂</td>\n",
       "      <td>no_response</td>\n",
       "      <td>1</td>\n",
       "      <td>unknown</td>\n",
       "      <td>False</td>\n",
       "    </tr>\n",
       "    <tr>\n",
       "      <th>11</th>\n",
       "      <td>amen</td>\n",
       "      <td>no_response</td>\n",
       "      <td>1</td>\n",
       "      <td>unknown</td>\n",
       "      <td>False</td>\n",
       "    </tr>\n",
       "    <tr>\n",
       "      <th>12</th>\n",
       "      <td>breaking news: manji aachiwa huru, afutiwa mas...</td>\n",
       "      <td>no_response</td>\n",
       "      <td>383</td>\n",
       "      <td>sw</td>\n",
       "      <td>False</td>\n",
       "    </tr>\n",
       "    <tr>\n",
       "      <th>13</th>\n",
       "      <td>my sentiments: i pray my daughters will know t...</td>\n",
       "      <td>no_response</td>\n",
       "      <td>90</td>\n",
       "      <td>en</td>\n",
       "      <td>False</td>\n",
       "    </tr>\n",
       "    <tr>\n",
       "      <th>14</th>\n",
       "      <td>king chavala(mc); the stand up comedian!!!: ha...</td>\n",
       "      <td>no_response</td>\n",
       "      <td>200</td>\n",
       "      <td>sw</td>\n",
       "      <td>False</td>\n",
       "    </tr>\n",
       "  </tbody>\n",
       "</table>\n",
       "</div>"
      ],
      "text/plain": [
       "                                              comment     response  \\\n",
       "0                       serah resembles sarah wa kabu  no_response   \n",
       "1   take heart..sisy..god will always intercede 4 ...  no_response   \n",
       "2   video: “siwezi kuzungumzia refa, nimepewa timu...  no_response   \n",
       "3   i tried to watch this a month ago,but i couldn...  no_response   \n",
       "4   wakulima waanza kuuza korosho kwa bei ya sh 3,...  no_response   \n",
       "5   ministry of education, science and technology ...  no_response   \n",
       "6   > mkuu wa mkoa atoa agizo baada ya kupokea vit...  no_response   \n",
       "7   men and women who enter as extras into these r...  no_response   \n",
       "8   why do i feel so disgusted 🤦, upuzi tupu. it's...  no_response   \n",
       "9   we should also pray to god that father he will...  no_response   \n",
       "10                                                  😂  no_response   \n",
       "11                                               amen  no_response   \n",
       "12  breaking news: manji aachiwa huru, afutiwa mas...  no_response   \n",
       "13  my sentiments: i pray my daughters will know t...  no_response   \n",
       "14  king chavala(mc); the stand up comedian!!!: ha...  no_response   \n",
       "\n",
       "    comment_length language  code_switched  \n",
       "0                5       id          False  \n",
       "1                9       en          False  \n",
       "2              113       sw          False  \n",
       "3               26       en          False  \n",
       "4              491       sw          False  \n",
       "5              258       sw          False  \n",
       "6              206       sw          False  \n",
       "7               25       en          False  \n",
       "8               15       en          False  \n",
       "9               49       en          False  \n",
       "10               1  unknown          False  \n",
       "11               1  unknown          False  \n",
       "12             383       sw          False  \n",
       "13              90       en          False  \n",
       "14             200       sw          False  "
      ]
     },
     "execution_count": 34,
     "metadata": {},
     "output_type": "execute_result"
    }
   ],
   "source": [
    "# Filling  missing response column with None (if it exists) - This helps create a language-specific chatbot that doesn’t train on unrelated or noisy data\n",
    "\n",
    "if 'response' in df_combined_extended.columns:\n",
    "    df_combined_extended['response'] = df_combined_extended['response'].fillna('no_response')\n",
    "\n",
    "\n",
    "# Filling  missing code-switched flags with False\n",
    "if 'code_switched' in df_combined_extended.columns:\n",
    "    df_combined_extended['code_switched'] = df_combined_extended['code_switched'].fillna(False)\n",
    "\n",
    "# dropping  unnecessary columns \n",
    "df_combined_extended = df_combined_extended.drop(columns=['timestamp', 'url'], errors='ignore')\n",
    "\n",
    "# 8. Resetting index\n",
    "df_combined_extended.reset_index(drop=True, inplace=True)\n",
    "\n",
    "df_combined_extended.head(15)\n",
    "## Preparing input-reponse pairs from the Cornell dataset.\n",
    "\n"
   ]
  },
  {
   "cell_type": "code",
   "execution_count": 35,
   "id": "912f47bb",
   "metadata": {},
   "outputs": [],
   "source": [
    "import ast\n",
    "\n",
    "# Defining file paths\n",
    "lines_path = \"Data\\movie_lines.txt\"\n",
    "conversations_path = \"Data\\movie_conversations.txt\"\n",
    "\n",
    "\n",
    "# Loading  and parsing  movie_lines.txt\n",
    "lines = {}\n",
    "with open(lines_path, encoding='ISO-8859-1') as f:\n",
    "    for line in f:\n",
    "        parts = line.strip().split(\" +++$+++ \")\n",
    "        if len(parts) == 5:\n",
    "            line_id, _, _, _, text = parts\n",
    "            lines[line_id] = text\n",
    "\n",
    "\n",
    "# Loading and parsing movie_conversations.txt\n",
    "\n",
    "conversations = []\n",
    "with open(conversations_path, encoding='ISO-8859-1') as f:\n",
    "    for line in f:\n",
    "        parts = line.strip().split(\" +++$+++ \")\n",
    "        if len(parts) == 4:\n",
    "            utterance_ids = ast.literal_eval(parts[3])  # Converting string list to actual list\n",
    "            conversations.append(utterance_ids)\n",
    "\n"
   ]
  },
  {
   "cell_type": "code",
   "execution_count": 36,
   "id": "ba1b5c59",
   "metadata": {},
   "outputs": [
    {
     "name": "stdout",
     "output_type": "stream",
     "text": [
      "                                             comment  \\\n",
      "0  Can we make this quick?  Roxanne Korrine and A...   \n",
      "1  Well, I thought we'd start with pronunciation,...   \n",
      "2  Not the hacking and gagging and spitting part....   \n",
      "3  You're asking me out.  That's so cute. What's ...   \n",
      "4  No, no, it's my fault -- we didn't have a prop...   \n",
      "\n",
      "                                            response  \n",
      "0  Well, I thought we'd start with pronunciation,...  \n",
      "1  Not the hacking and gagging and spitting part....  \n",
      "2  Okay... then how 'bout we try out some French ...  \n",
      "3                                         Forget it.  \n",
      "4                                           Cameron.  \n"
     ]
    }
   ],
   "source": [
    "# Creating comment-response pairs\n",
    "\n",
    "pairs = []\n",
    "for conv in conversations:\n",
    "    for i in range(len(conv) - 1):\n",
    "        input_id = conv[i]\n",
    "        response_id = conv[i + 1]\n",
    "\n",
    "        input_text = lines.get(input_id)\n",
    "        response_text = lines.get(response_id)\n",
    "\n",
    "        if input_text and response_text:\n",
    "            pairs.append((input_text, response_text))\n",
    "\n",
    "# Creating a DataFrame\n",
    "df_cornell = pd.DataFrame(pairs, columns=[\"comment\", \"response\"])\n",
    "print(df_cornell.head())\n"
   ]
  },
  {
   "cell_type": "markdown",
   "id": "17a00045",
   "metadata": {},
   "source": [
    "## Cleaning paired Dataframe"
   ]
  },
  {
   "cell_type": "code",
   "execution_count": 37,
   "id": "3b7b934c",
   "metadata": {},
   "outputs": [
    {
     "name": "stdout",
     "output_type": "stream",
     "text": [
      "                                                  comment  \\\n",
      "34191                              We gotta break it open   \n",
      "102307                                I guess I should go   \n",
      "211458  James where did you grow up Was it around here...   \n",
      "214373                                      Another Frank   \n",
      "43577   His name is Maurice Hes dancing around everyth...   \n",
      "\n",
      "                                                 response  \n",
      "34191                                I aint got a warrant  \n",
      "102307                         I want you to stay with me  \n",
      "211458                                               What  \n",
      "214373  everybody Mike says Pat you mean to tell me fo...  \n",
      "43577                                        Red flag man  \n"
     ]
    }
   ],
   "source": [
    "\n",
    "def clean_text(text, remove_emojis=True):\n",
    "    if pd.isnull(text):\n",
    "        return \"\"\n",
    "        text = text.lower()   # Lowercase\n",
    "\n",
    "    text = text.translate(str.maketrans('', '', string.punctuation))     # Removing punctuation\n",
    "\n",
    "    text = re.sub(r'\\s+', ' ', text).strip()     # Removing extra whitespace\n",
    "\n",
    "    return text\n",
    "\n",
    "df_cornell['comment'] = df_cornell['comment'].apply(lambda x: clean_text(x))\n",
    "df_cornell['response'] = df_cornell['response'].apply(lambda x: clean_text(x))\n",
    "\n",
    "df_cornell = df_cornell[(df_cornell['comment'].str.strip() != '') & (df_cornell['response'].str.strip() != '')] #Dropping rows with empty comments or responses\n",
    "\n",
    "print(df_cornell.sample(5))\n"
   ]
  },
  {
   "cell_type": "code",
   "execution_count": 38,
   "id": "0ecdc861",
   "metadata": {},
   "outputs": [
    {
     "data": {
      "text/html": [
       "<div>\n",
       "<style scoped>\n",
       "    .dataframe tbody tr th:only-of-type {\n",
       "        vertical-align: middle;\n",
       "    }\n",
       "\n",
       "    .dataframe tbody tr th {\n",
       "        vertical-align: top;\n",
       "    }\n",
       "\n",
       "    .dataframe thead th {\n",
       "        text-align: right;\n",
       "    }\n",
       "</style>\n",
       "<table border=\"1\" class=\"dataframe\">\n",
       "  <thead>\n",
       "    <tr style=\"text-align: right;\">\n",
       "      <th></th>\n",
       "      <th>comment</th>\n",
       "      <th>response</th>\n",
       "      <th>comment_length</th>\n",
       "      <th>language</th>\n",
       "      <th>code_switched</th>\n",
       "    </tr>\n",
       "  </thead>\n",
       "  <tbody>\n",
       "    <tr>\n",
       "      <th>0</th>\n",
       "      <td>serah resembles sarah wa kabu</td>\n",
       "      <td>no_response</td>\n",
       "      <td>5</td>\n",
       "      <td>id</td>\n",
       "      <td>False</td>\n",
       "    </tr>\n",
       "    <tr>\n",
       "      <th>1</th>\n",
       "      <td>take heart..sisy..god will always intercede 4 ...</td>\n",
       "      <td>no_response</td>\n",
       "      <td>9</td>\n",
       "      <td>en</td>\n",
       "      <td>False</td>\n",
       "    </tr>\n",
       "    <tr>\n",
       "      <th>2</th>\n",
       "      <td>video: “siwezi kuzungumzia refa, nimepewa timu...</td>\n",
       "      <td>no_response</td>\n",
       "      <td>113</td>\n",
       "      <td>sw</td>\n",
       "      <td>False</td>\n",
       "    </tr>\n",
       "    <tr>\n",
       "      <th>3</th>\n",
       "      <td>i tried to watch this a month ago,but i couldn...</td>\n",
       "      <td>no_response</td>\n",
       "      <td>26</td>\n",
       "      <td>en</td>\n",
       "      <td>False</td>\n",
       "    </tr>\n",
       "    <tr>\n",
       "      <th>4</th>\n",
       "      <td>wakulima waanza kuuza korosho kwa bei ya sh 3,...</td>\n",
       "      <td>no_response</td>\n",
       "      <td>491</td>\n",
       "      <td>sw</td>\n",
       "      <td>False</td>\n",
       "    </tr>\n",
       "  </tbody>\n",
       "</table>\n",
       "</div>"
      ],
      "text/plain": [
       "                                             comment     response  \\\n",
       "0                      serah resembles sarah wa kabu  no_response   \n",
       "1  take heart..sisy..god will always intercede 4 ...  no_response   \n",
       "2  video: “siwezi kuzungumzia refa, nimepewa timu...  no_response   \n",
       "3  i tried to watch this a month ago,but i couldn...  no_response   \n",
       "4  wakulima waanza kuuza korosho kwa bei ya sh 3,...  no_response   \n",
       "\n",
       "   comment_length language  code_switched  \n",
       "0               5       id          False  \n",
       "1               9       en          False  \n",
       "2             113       sw          False  \n",
       "3              26       en          False  \n",
       "4             491       sw          False  "
      ]
     },
     "execution_count": 38,
     "metadata": {},
     "output_type": "execute_result"
    }
   ],
   "source": [
    "df_combined_extended.head(5)"
   ]
  },
  {
   "cell_type": "code",
   "execution_count": 39,
   "id": "95521523",
   "metadata": {},
   "outputs": [
    {
     "data": {
      "text/html": [
       "<div>\n",
       "<style scoped>\n",
       "    .dataframe tbody tr th:only-of-type {\n",
       "        vertical-align: middle;\n",
       "    }\n",
       "\n",
       "    .dataframe tbody tr th {\n",
       "        vertical-align: top;\n",
       "    }\n",
       "\n",
       "    .dataframe thead th {\n",
       "        text-align: right;\n",
       "    }\n",
       "</style>\n",
       "<table border=\"1\" class=\"dataframe\">\n",
       "  <thead>\n",
       "    <tr style=\"text-align: right;\">\n",
       "      <th></th>\n",
       "      <th>comment</th>\n",
       "      <th>response</th>\n",
       "    </tr>\n",
       "  </thead>\n",
       "  <tbody>\n",
       "    <tr>\n",
       "      <th>0</th>\n",
       "      <td>Can we make this quick Roxanne Korrine and And...</td>\n",
       "      <td>Well I thought wed start with pronunciation if...</td>\n",
       "    </tr>\n",
       "    <tr>\n",
       "      <th>1</th>\n",
       "      <td>Well I thought wed start with pronunciation if...</td>\n",
       "      <td>Not the hacking and gagging and spitting part ...</td>\n",
       "    </tr>\n",
       "    <tr>\n",
       "      <th>2</th>\n",
       "      <td>Not the hacking and gagging and spitting part ...</td>\n",
       "      <td>Okay then how bout we try out some French cuis...</td>\n",
       "    </tr>\n",
       "    <tr>\n",
       "      <th>3</th>\n",
       "      <td>Youre asking me out Thats so cute Whats your n...</td>\n",
       "      <td>Forget it</td>\n",
       "    </tr>\n",
       "    <tr>\n",
       "      <th>4</th>\n",
       "      <td>No no its my fault we didnt have a proper intr...</td>\n",
       "      <td>Cameron</td>\n",
       "    </tr>\n",
       "  </tbody>\n",
       "</table>\n",
       "</div>"
      ],
      "text/plain": [
       "                                             comment  \\\n",
       "0  Can we make this quick Roxanne Korrine and And...   \n",
       "1  Well I thought wed start with pronunciation if...   \n",
       "2  Not the hacking and gagging and spitting part ...   \n",
       "3  Youre asking me out Thats so cute Whats your n...   \n",
       "4  No no its my fault we didnt have a proper intr...   \n",
       "\n",
       "                                            response  \n",
       "0  Well I thought wed start with pronunciation if...  \n",
       "1  Not the hacking and gagging and spitting part ...  \n",
       "2  Okay then how bout we try out some French cuis...  \n",
       "3                                          Forget it  \n",
       "4                                            Cameron  "
      ]
     },
     "execution_count": 39,
     "metadata": {},
     "output_type": "execute_result"
    }
   ],
   "source": [
    "df_cornell.head(5)"
   ]
  },
  {
   "cell_type": "code",
   "execution_count": 40,
   "id": "ff931fa0",
   "metadata": {},
   "outputs": [],
   "source": [
    "df_combined_extended_clean = df_combined_extended[df_combined_extended['response'] != 'no_response'].copy()\n",
    "df_combined_extended_clean = df_combined_extended_clean[['comment', 'response']].rename(columns={'comment': 'prompt'})\n"
   ]
  },
  {
   "cell_type": "code",
   "execution_count": 41,
   "id": "c0e091e0",
   "metadata": {},
   "outputs": [],
   "source": [
    "# Renaming df_cornell columns \n",
    "\n",
    "df_cornell_clean = df_cornell.rename(columns={'comment': 'prompt'})\n"
   ]
  },
  {
   "cell_type": "code",
   "execution_count": 42,
   "id": "20e5a397",
   "metadata": {},
   "outputs": [],
   "source": [
    "# Combining datasets \n",
    "df_all = pd.concat([df_cornell_clean, df_combined_extended_clean], ignore_index=True)\n",
    "df_all = df_all.dropna(subset=['prompt', 'response']).reset_index(drop=True)\n"
   ]
  },
  {
   "cell_type": "code",
   "execution_count": 43,
   "id": "b561102a",
   "metadata": {},
   "outputs": [
    {
     "data": {
      "text/html": [
       "<div>\n",
       "<style scoped>\n",
       "    .dataframe tbody tr th:only-of-type {\n",
       "        vertical-align: middle;\n",
       "    }\n",
       "\n",
       "    .dataframe tbody tr th {\n",
       "        vertical-align: top;\n",
       "    }\n",
       "\n",
       "    .dataframe thead th {\n",
       "        text-align: right;\n",
       "    }\n",
       "</style>\n",
       "<table border=\"1\" class=\"dataframe\">\n",
       "  <thead>\n",
       "    <tr style=\"text-align: right;\">\n",
       "      <th></th>\n",
       "      <th>prompt</th>\n",
       "      <th>response</th>\n",
       "    </tr>\n",
       "  </thead>\n",
       "  <tbody>\n",
       "    <tr>\n",
       "      <th>0</th>\n",
       "      <td>Can we make this quick Roxanne Korrine and And...</td>\n",
       "      <td>Well I thought wed start with pronunciation if...</td>\n",
       "    </tr>\n",
       "    <tr>\n",
       "      <th>1</th>\n",
       "      <td>Well I thought wed start with pronunciation if...</td>\n",
       "      <td>Not the hacking and gagging and spitting part ...</td>\n",
       "    </tr>\n",
       "    <tr>\n",
       "      <th>2</th>\n",
       "      <td>Not the hacking and gagging and spitting part ...</td>\n",
       "      <td>Okay then how bout we try out some French cuis...</td>\n",
       "    </tr>\n",
       "    <tr>\n",
       "      <th>3</th>\n",
       "      <td>Youre asking me out Thats so cute Whats your n...</td>\n",
       "      <td>Forget it</td>\n",
       "    </tr>\n",
       "    <tr>\n",
       "      <th>4</th>\n",
       "      <td>No no its my fault we didnt have a proper intr...</td>\n",
       "      <td>Cameron</td>\n",
       "    </tr>\n",
       "  </tbody>\n",
       "</table>\n",
       "</div>"
      ],
      "text/plain": [
       "                                              prompt  \\\n",
       "0  Can we make this quick Roxanne Korrine and And...   \n",
       "1  Well I thought wed start with pronunciation if...   \n",
       "2  Not the hacking and gagging and spitting part ...   \n",
       "3  Youre asking me out Thats so cute Whats your n...   \n",
       "4  No no its my fault we didnt have a proper intr...   \n",
       "\n",
       "                                            response  \n",
       "0  Well I thought wed start with pronunciation if...  \n",
       "1  Not the hacking and gagging and spitting part ...  \n",
       "2  Okay then how bout we try out some French cuis...  \n",
       "3                                          Forget it  \n",
       "4                                            Cameron  "
      ]
     },
     "execution_count": 43,
     "metadata": {},
     "output_type": "execute_result"
    }
   ],
   "source": [
    "df_all.head(5)"
   ]
  },
  {
   "cell_type": "code",
   "execution_count": 44,
   "id": "07b6e5c1",
   "metadata": {},
   "outputs": [
    {
     "name": "stdout",
     "output_type": "stream",
     "text": [
      "<class 'pandas.core.frame.DataFrame'>\n",
      "RangeIndex: 221741 entries, 0 to 221740\n",
      "Data columns (total 2 columns):\n",
      " #   Column    Non-Null Count   Dtype \n",
      "---  ------    --------------   ----- \n",
      " 0   prompt    221741 non-null  object\n",
      " 1   response  221741 non-null  object\n",
      "dtypes: object(2)\n",
      "memory usage: 3.4+ MB\n"
     ]
    }
   ],
   "source": [
    "df_all.info()"
   ]
  },
  {
   "cell_type": "markdown",
   "id": "b6f3e922",
   "metadata": {},
   "source": [
    "## Preprocessing  df_all"
   ]
  },
  {
   "cell_type": "code",
   "execution_count": 45,
   "id": "a5b08a90",
   "metadata": {},
   "outputs": [
    {
     "name": "stdout",
     "output_type": "stream",
     "text": [
      "Requirement already satisfied: better_profanity in c:\\users\\helle\\anaconda3\\envs\\learn-env2\\lib\\site-packages (0.7.0)\n"
     ]
    }
   ],
   "source": [
    "!pip install better_profanity\n"
   ]
  },
  {
   "cell_type": "code",
   "execution_count": 46,
   "id": "afbe2107",
   "metadata": {},
   "outputs": [],
   "source": [
    "# importing libraries \n",
    "\n",
    "import re\n",
    "from better_profanity import profanity\n",
    "import unicodedata\n"
   ]
  },
  {
   "cell_type": "code",
   "execution_count": 47,
   "id": "fa194fa0",
   "metadata": {},
   "outputs": [],
   "source": [
    "# Loading cleaning dataframe \n",
    "\n",
    "def clean_text(text):\n",
    "    text = str(text).strip()\n",
    "    text = unicodedata.normalize(\"NFKC\", text)\n",
    "    text = re.sub(r\"\\s+\", \" \", text)\n",
    "    text = re.sub(r\"\\.\\.\\.+\", \".\", text)\n",
    "    text = re.sub(r\"[^a-zA-Z0-9\\u00C0-\\u017F.,!?'\\s]\", \"\", text)\n",
    "    return text\n"
   ]
  },
  {
   "cell_type": "code",
   "execution_count": 48,
   "id": "49a2af88",
   "metadata": {},
   "outputs": [],
   "source": [
    "#Applying it to the df_all \n",
    "\n",
    "df_all[\"prompt\"] = df_all[\"prompt\"].astype(str).apply(clean_text)\n",
    "df_all[\"response\"] = df_all[\"response\"].astype(str).apply(clean_text)\n"
   ]
  },
  {
   "cell_type": "code",
   "execution_count": 50,
   "id": "373961be",
   "metadata": {},
   "outputs": [],
   "source": [
    "# Loading Profanity censoring \n",
    "\n",
    "profanity.load_censor_words()\n",
    "\n",
    "def censor_profanity(text):\n",
    "    return profanity.censor(text)\n",
    "from better_profanity import profanity\n"
   ]
  },
  {
   "cell_type": "code",
   "execution_count": 51,
   "id": "681a2a6e",
   "metadata": {},
   "outputs": [],
   "source": [
    "def clean_profanity(text):\n",
    "    return profanity.censor(str(text))  # Replaces profane words with ****\n"
   ]
  },
  {
   "cell_type": "code",
   "execution_count": 52,
   "id": "ada6bbf3",
   "metadata": {},
   "outputs": [],
   "source": [
    "# Randomly sample 2,000 rows \n",
    "df_sampled = df_all.sample(n=2000, random_state=42).reset_index(drop=True)\n",
    "\n",
    "# applying profanity cleaning \n",
    "df_sampled[\"prompt\"] = df_sampled[\"prompt\"].apply(clean_profanity)\n",
    "df_sampled[\"response\"] = df_sampled[\"response\"].apply(clean_profanity)\n"
   ]
  },
  {
   "cell_type": "code",
   "execution_count": 53,
   "id": "22a17c84",
   "metadata": {},
   "outputs": [
    {
     "data": {
      "text/html": [
       "<div>\n",
       "<style scoped>\n",
       "    .dataframe tbody tr th:only-of-type {\n",
       "        vertical-align: middle;\n",
       "    }\n",
       "\n",
       "    .dataframe tbody tr th {\n",
       "        vertical-align: top;\n",
       "    }\n",
       "\n",
       "    .dataframe thead th {\n",
       "        text-align: right;\n",
       "    }\n",
       "</style>\n",
       "<table border=\"1\" class=\"dataframe\">\n",
       "  <thead>\n",
       "    <tr style=\"text-align: right;\">\n",
       "      <th></th>\n",
       "      <th>prompt</th>\n",
       "      <th>response</th>\n",
       "    </tr>\n",
       "  </thead>\n",
       "  <tbody>\n",
       "    <tr>\n",
       "      <th>0</th>\n",
       "      <td>Can we make this quick Roxanne Korrine and And...</td>\n",
       "      <td>Well I thought wed start with pronunciation if...</td>\n",
       "    </tr>\n",
       "    <tr>\n",
       "      <th>1</th>\n",
       "      <td>Well I thought wed start with pronunciation if...</td>\n",
       "      <td>Not the hacking and gagging and spitting part ...</td>\n",
       "    </tr>\n",
       "    <tr>\n",
       "      <th>2</th>\n",
       "      <td>Not the hacking and gagging and spitting part ...</td>\n",
       "      <td>Okay then how bout we try out some French cuis...</td>\n",
       "    </tr>\n",
       "    <tr>\n",
       "      <th>3</th>\n",
       "      <td>Youre asking me out Thats so cute Whats your n...</td>\n",
       "      <td>Forget it</td>\n",
       "    </tr>\n",
       "    <tr>\n",
       "      <th>4</th>\n",
       "      <td>No no its my fault we didnt have a proper intr...</td>\n",
       "      <td>Cameron</td>\n",
       "    </tr>\n",
       "  </tbody>\n",
       "</table>\n",
       "</div>"
      ],
      "text/plain": [
       "                                              prompt  \\\n",
       "0  Can we make this quick Roxanne Korrine and And...   \n",
       "1  Well I thought wed start with pronunciation if...   \n",
       "2  Not the hacking and gagging and spitting part ...   \n",
       "3  Youre asking me out Thats so cute Whats your n...   \n",
       "4  No no its my fault we didnt have a proper intr...   \n",
       "\n",
       "                                            response  \n",
       "0  Well I thought wed start with pronunciation if...  \n",
       "1  Not the hacking and gagging and spitting part ...  \n",
       "2  Okay then how bout we try out some French cuis...  \n",
       "3                                          Forget it  \n",
       "4                                            Cameron  "
      ]
     },
     "execution_count": 53,
     "metadata": {},
     "output_type": "execute_result"
    }
   ],
   "source": [
    "df_all.head()"
   ]
  },
  {
   "cell_type": "code",
   "execution_count": 54,
   "id": "f212e872",
   "metadata": {},
   "outputs": [
    {
     "name": "stderr",
     "output_type": "stream",
     "text": [
      "The tokenizer class you load from this checkpoint is not the same type as the class this function is called from. It may result in unexpected tokenization. \n",
      "The tokenizer class you load from this checkpoint is 'T5Tokenizer'. \n",
      "The class this function is called from is 'MT5Tokenizer'.\n",
      "You are using the default legacy behaviour of the <class 'transformers.models.mt5.tokenization_mt5.MT5Tokenizer'>. This is expected, and simply means that the `legacy` (previous) behavior will be used so nothing changes for you. If you want to use the new behaviour, set `legacy=False`. This should only be set if you understand what it means, and thoroughly read the reason why this was added as explained in https://github.com/huggingface/transformers/pull/24565\n"
     ]
    }
   ],
   "source": [
    "\n",
    "# Loading Pre-trained Model\n",
    "from transformers import MT5ForConditionalGeneration, MT5Tokenizer\n",
    "\n",
    "model_name = \"google/mt5-small\"   \n",
    "model = MT5ForConditionalGeneration.from_pretrained(model_name)\n",
    "tokenizer = MT5Tokenizer.from_pretrained(model_name)\n",
    "\n",
    "\n"
   ]
  },
  {
   "cell_type": "code",
   "execution_count": 62,
   "id": "9caf9ff7",
   "metadata": {},
   "outputs": [],
   "source": [
    "#Ensuring my hugging face dataset is strings \n",
    "from datasets import Dataset\n",
    " \n",
    "df_sampled[\"prompt\"] = df_sampled[\"prompt\"].astype(str)\n",
    "df_sampled[\"response\"] = df_sampled[\"response\"].astype(str)\n",
    "\n",
    "dataset = Dataset.from_pandas(df_sampled)"
   ]
  },
  {
   "cell_type": "code",
   "execution_count": 65,
   "id": "ae54e4d7",
   "metadata": {},
   "outputs": [],
   "source": [
    "#Loading my sampled dataset\n",
    "\n",
    "dataset = Dataset.from_pandas(df_sampled)  \n",
    "dataset = dataset.train_test_split(test_size=0.1)\n",
    "\n",
    "train_dataset = dataset[\"train\"]\n",
    "test_dataset = dataset[\"test\"]"
   ]
  },
  {
   "cell_type": "code",
   "execution_count": 66,
   "id": "a9eddde7",
   "metadata": {},
   "outputs": [],
   "source": [
    "#Tokenization\n",
    "def preprocess(example):\n",
    "    prefix = \"chatbot response: \"\n",
    "    \n",
    "    prompt_text = example[\"prompt\"]\n",
    "    response_text = example[\"response\"]\n",
    "    \n",
    "    # converting lists to strings\n",
    "    if isinstance(prompt_text, list):\n",
    "        prompt_text = \" \".join(prompt_text)\n",
    "    if isinstance(response_text, list):\n",
    "        response_text = \" \".join(response_text)\n",
    "    \n",
    "    model_inputs = tokenizer(\n",
    "        prefix + prompt_text,\n",
    "        max_length=128,\n",
    "        padding=\"max_length\",\n",
    "        truncation=True\n",
    "    )\n",
    "    labels = tokenizer(\n",
    "        prefix + response_text,\n",
    "        max_length=128,\n",
    "        padding=\"max_length\",\n",
    "        truncation=True\n",
    "    )\n",
    "    model_inputs[\"labels\"] = labels[\"input_ids\"]\n",
    "    return model_inputs\n"
   ]
  },
  {
   "cell_type": "code",
   "execution_count": 68,
   "id": "aaf97584",
   "metadata": {},
   "outputs": [
    {
     "name": "stderr",
     "output_type": "stream",
     "text": [
      "Map: 100%|██████████| 1800/1800 [00:01<00:00, 1522.77 examples/s]\n",
      "Map: 100%|██████████| 200/200 [00:00<00:00, 1954.42 examples/s]\n"
     ]
    }
   ],
   "source": [
    "train_dataset = dataset[\"train\"]\n",
    "val_dataset = dataset[\"test\"]  \n",
    "\n",
    "train_dataset = train_dataset.map(preprocess, batched=False)\n",
    "val_dataset = val_dataset.map(preprocess, batched=False)"
   ]
  },
  {
   "cell_type": "code",
   "execution_count": 70,
   "id": "6a9ae5c6",
   "metadata": {},
   "outputs": [],
   "source": [
    "#Training Arguments \n",
    "\n",
    "from transformers import Seq2SeqTrainingArguments\n",
    "\n",
    "training_args = Seq2SeqTrainingArguments(\n",
    "    output_dir=\"./mt5_finetuned\",\n",
    "    eval_strategy = \"epoch\",\n",
    "    learning_rate=2e-4,\n",
    "    per_device_train_batch_size=4,    \n",
    "    per_device_eval_batch_size=4,\n",
    "    weight_decay=0.01,\n",
    "    save_total_limit=2,\n",
    "    num_train_epochs=3,                \n",
    "    predict_with_generate=True,\n",
    "    fp16=False,                       \n",
    "    logging_dir=\"./logs\",\n",
    "    logging_steps=100\n",
    ")\n"
   ]
  },
  {
   "cell_type": "code",
   "execution_count": 71,
   "metadata": {},
   "outputs": [
    {
     "name": "stderr",
     "output_type": "stream",
     "text": [
      "C:\\Users\\helle\\AppData\\Local\\Temp\\ipykernel_19028\\3569277006.py:7: FutureWarning: `tokenizer` is deprecated and will be removed in version 5.0.0 for `Seq2SeqTrainer.__init__`. Use `processing_class` instead.\n",
      "  trainer = Seq2SeqTrainer(\n"
     ]
    }
   ],
   "source": [
    "#Intiliazing trainer\n",
    "\n",
    "from transformers import DataCollatorForSeq2Seq, Seq2SeqTrainer\n",
    "\n",
    "data_collator = DataCollatorForSeq2Seq(tokenizer=tokenizer, model=model)\n",
    "\n",
    "trainer = Seq2SeqTrainer(\n",
    "    model=model,\n",
    "    args=training_args,\n",
    "    train_dataset=train_dataset,\n",
    "    eval_dataset=val_dataset,\n",
    "    tokenizer=tokenizer,\n",
    "    data_collator=data_collator\n",
    ")\n"
   ]
  },
  {
   "cell_type": "code",
   "execution_count": 73,
   "metadata": {},
   "outputs": [
    {
     "data": {
      "text/html": [
       "\n",
       "    <div>\n",
       "      \n",
       "      <progress value='1350' max='1350' style='width:300px; height:20px; vertical-align: middle;'></progress>\n",
       "      [1350/1350 12:36:11, Epoch 3/3]\n",
       "    </div>\n",
       "    <table border=\"1\" class=\"dataframe\">\n",
       "  <thead>\n",
       " <tr style=\"text-align: left;\">\n",
       "      <th>Epoch</th>\n",
       "      <th>Training Loss</th>\n",
       "      <th>Validation Loss</th>\n",
       "    </tr>\n",
       "  </thead>\n",
       "  <tbody>\n",
       "    <tr>\n",
       "      <td>1</td>\n",
       "      <td>1.170600</td>\n",
       "      <td>1.012065</td>\n",
       "    </tr>\n",
       "    <tr>\n",
       "      <td>2</td>\n",
       "      <td>0.982600</td>\n",
       "      <td>0.858023</td>\n",
       "    </tr>\n",
       "    <tr>\n",
       "      <td>3</td>\n",
       "      <td>0.878500</td>\n",
       "      <td>0.818807</td>\n",
       "    </tr>\n",
       "  </tbody>\n",
       "</table><p>"
      ],
      "text/plain": [
       "<IPython.core.display.HTML object>"
      ]
     },
     "metadata": {},
     "output_type": "display_data"
    },
    {
     "name": "stderr",
     "output_type": "stream",
     "text": [
      "c:\\Users\\helle\\anaconda3\\envs\\Learn-env2\\Lib\\site-packages\\torch\\utils\\data\\dataloader.py:665: UserWarning: 'pin_memory' argument is set as true but no accelerator is found, then device pinned memory won't be used.\n",
      "  warnings.warn(warn_msg)\n",
      "c:\\Users\\helle\\anaconda3\\envs\\Learn-env2\\Lib\\site-packages\\torch\\utils\\data\\dataloader.py:665: UserWarning: 'pin_memory' argument is set as true but no accelerator is found, then device pinned memory won't be used.\n",
      "  warnings.warn(warn_msg)\n"
     ]
    },
    {
     "data": {
      "text/plain": [
       "TrainOutput(global_step=1350, training_loss=2.4485309431287976, metrics={'train_runtime': 45382.0479, 'train_samples_per_second': 0.119, 'train_steps_per_second': 0.03, 'total_flos': 723329577123840.0, 'train_loss': 2.4485309431287976, 'epoch': 3.0})"
      ]
     },
     "execution_count": 73,
     "metadata": {},
     "output_type": "execute_result"
    }
   ],
   "source": [
    "#Training\n",
    "trainer.train()\n"
   ]
  },
  {
   "cell_type": "code",
   "execution_count": 74,
   "id": "01ca2777",
   "metadata": {},
   "outputs": [
    {
     "data": {
      "text/plain": [
       "('./mt5_finetuned\\\\tokenizer_config.json',\n",
       " './mt5_finetuned\\\\special_tokens_map.json',\n",
       " './mt5_finetuned\\\\spiece.model',\n",
       " './mt5_finetuned\\\\added_tokens.json')"
      ]
     },
     "execution_count": 74,
     "metadata": {},
     "output_type": "execute_result"
    }
   ],
   "source": [
    "#Saving Model\n",
    "trainer.save_model(\"./mt5_finetuned\")\n",
    "tokenizer.save_pretrained(\"./mt5_finetuned\")\n"
   ]
  },
  {
   "cell_type": "code",
   "execution_count": 118,
   "id": "d57b349a",
   "metadata": {},
   "outputs": [
    {
     "data": {
      "text/html": [
       "<div>\n",
       "<style scoped>\n",
       "    .dataframe tbody tr th:only-of-type {\n",
       "        vertical-align: middle;\n",
       "    }\n",
       "\n",
       "    .dataframe tbody tr th {\n",
       "        vertical-align: top;\n",
       "    }\n",
       "\n",
       "    .dataframe thead th {\n",
       "        text-align: right;\n",
       "    }\n",
       "</style>\n",
       "<table border=\"1\" class=\"dataframe\">\n",
       "  <thead>\n",
       "    <tr style=\"text-align: right;\">\n",
       "      <th></th>\n",
       "      <th>prompt</th>\n",
       "      <th>response</th>\n",
       "    </tr>\n",
       "  </thead>\n",
       "  <tbody>\n",
       "    <tr>\n",
       "      <th>1829</th>\n",
       "      <td>Hawkeyes asking the Majors opinion on a point ...</td>\n",
       "      <td>Also Im curious whether shes a moaner or</td>\n",
       "    </tr>\n",
       "    <tr>\n",
       "      <th>409</th>\n",
       "      <td>My ****</td>\n",
       "      <td>Its beautiful</td>\n",
       "    </tr>\n",
       "    <tr>\n",
       "      <th>1513</th>\n",
       "      <td>Get out of here</td>\n",
       "      <td>Im not leaving without you</td>\n",
       "    </tr>\n",
       "    <tr>\n",
       "      <th>863</th>\n",
       "      <td>Kareems in the wash I need a favor</td>\n",
       "      <td>Shoot</td>\n",
       "    </tr>\n",
       "    <tr>\n",
       "      <th>1867</th>\n",
       "      <td>It doesnt feel right to me I I dont even have ...</td>\n",
       "      <td>Bon voyage</td>\n",
       "    </tr>\n",
       "    <tr>\n",
       "      <th>70</th>\n",
       "      <td>Tell me what</td>\n",
       "      <td>I followed Mr Carpenter right after you left a...</td>\n",
       "    </tr>\n",
       "    <tr>\n",
       "      <th>1017</th>\n",
       "      <td>These kids arent likely to forget</td>\n",
       "      <td>Theyve survived this ordeal theyll survive its...</td>\n",
       "    </tr>\n",
       "    <tr>\n",
       "      <th>1709</th>\n",
       "      <td>Really That was fast</td>\n",
       "      <td>Im kidding Hello</td>\n",
       "    </tr>\n",
       "    <tr>\n",
       "      <th>605</th>\n",
       "      <td>And they run straight to the cops who start lo...</td>\n",
       "      <td>I wont let em</td>\n",
       "    </tr>\n",
       "    <tr>\n",
       "      <th>1226</th>\n",
       "      <td>Who told you about her</td>\n",
       "      <td>You did You were with her when she disappeared...</td>\n",
       "    </tr>\n",
       "  </tbody>\n",
       "</table>\n",
       "</div>"
      ],
      "text/plain": [
       "                                                 prompt  \\\n",
       "1829  Hawkeyes asking the Majors opinion on a point ...   \n",
       "409                                             My ****   \n",
       "1513                                    Get out of here   \n",
       "863                  Kareems in the wash I need a favor   \n",
       "1867  It doesnt feel right to me I I dont even have ...   \n",
       "70                                         Tell me what   \n",
       "1017                  These kids arent likely to forget   \n",
       "1709                               Really That was fast   \n",
       "605   And they run straight to the cops who start lo...   \n",
       "1226                             Who told you about her   \n",
       "\n",
       "                                               response  \n",
       "1829           Also Im curious whether shes a moaner or  \n",
       "409                                       Its beautiful  \n",
       "1513                         Im not leaving without you  \n",
       "863                                               Shoot  \n",
       "1867                                         Bon voyage  \n",
       "70    I followed Mr Carpenter right after you left a...  \n",
       "1017  Theyve survived this ordeal theyll survive its...  \n",
       "1709                                   Im kidding Hello  \n",
       "605                                       I wont let em  \n",
       "1226  You did You were with her when she disappeared...  "
      ]
     },
     "execution_count": 118,
     "metadata": {},
     "output_type": "execute_result"
    }
   ],
   "source": [
    "# Show a few samples from your training dataset\n",
    "df_sampled[['prompt', 'response']].sample(10)\n"
   ]
  },
  {
   "cell_type": "code",
   "execution_count": null,
   "id": "cd3a28db",
   "metadata": {},
   "outputs": [
    {
     "name": "stdout",
     "output_type": "stream",
     "text": [
      "🤖 Chatbot is ready! Type 'quit' to exit.\n",
      "\n"
     ]
    },
    {
     "name": "stderr",
     "output_type": "stream",
     "text": [
      "The following generation flags are not valid and may be ignored: ['temperature']. Set `TRANSFORMERS_VERBOSITY=info` for more details.\n"
     ]
    },
    {
     "name": "stdout",
     "output_type": "stream",
     "text": [
      "Bot: chatbot response \n",
      "\n"
     ]
    }
   ],
   "source": [
    "import torch\n",
    "# Loading fine-tuned model\n",
    "model_path = \"./mt5_finetuned\"\n",
    "model = MT5ForConditionalGeneration.from_pretrained(model_path)\n",
    "tokenizer = MT5Tokenizer.from_pretrained(model_path)\n",
    "\n",
    "# Chat function with repetition penalties\n",
    "def chat(user_message):\n",
    "    inputs = tokenizer(user_message,\n",
    "                       return_tensors=\"pt\",\n",
    "                       truncation=True,\n",
    "                       padding=True,\n",
    "                       max_length=64)\n",
    "    \n",
    "    with torch.no_grad():\n",
    "        output_ids = model.generate(\n",
    "            **inputs,\n",
    "            max_length=64,\n",
    "            num_beams=4,\n",
    "            repetition_penalty=2.0,       # prevents repeating tokens\n",
    "            no_repeat_ngram_size=3,       # avoids repeating 3-grams\n",
    "            temperature=0.7,              # adds randomness for variety\n",
    "            early_stopping=True\n",
    "        )\n",
    "    \n",
    "    return tokenizer.decode(output_ids[0], skip_special_tokens=True)\n",
    "\n",
    "\n"
   ]
  },
  {
   "cell_type": "code",
   "execution_count": null,
   "id": "4de72f97",
   "metadata": {},
   "outputs": [
    {
     "name": "stderr",
     "output_type": "stream",
     "text": [
      "The following generation flags are not valid and may be ignored: ['temperature']. Set `TRANSFORMERS_VERBOSITY=info` for more details.\n"
     ]
    },
    {
     "name": "stdout",
     "output_type": "stream",
     "text": [
      "User: How much is this phone?\n"
     ]
    },
    {
     "name": "stderr",
     "output_type": "stream",
     "text": [
      "The following generation flags are not valid and may be ignored: ['temperature']. Set `TRANSFORMERS_VERBOSITY=info` for more details.\n"
     ]
    },
    {
     "name": "stdout",
     "output_type": "stream",
     "text": [
      "Bot: chatbot:\n",
      "\n",
      "User: Je, hii bidhaa inapatikana?\n"
     ]
    },
    {
     "name": "stderr",
     "output_type": "stream",
     "text": [
      "The following generation flags are not valid and may be ignored: ['temperature']. Set `TRANSFORMERS_VERBOSITY=info` for more details.\n"
     ]
    },
    {
     "name": "stdout",
     "output_type": "stream",
     "text": [
      "Bot: chatbotbotbot response:\n",
      "\n",
      "User: Nipe details za laptop hii please\n",
      "Bot: chatbot response:\n"
     ]
    }
   ],
   "source": [
    "print(\"User: How much is this phone?\")\n",
    "print(\"Bot:\", chat(\"How much is this phone?\"))\n",
    "\n",
    "print(\"\\nUser: Je, hii bidhaa inapatikana?\")\n",
    "print(\"Bot:\", chat(\"Je, hii bidhaa inapatikana?\"))\n",
    "\n",
    "print(\"\\nUser: Nipe details za laptop hii please\")\n",
    "print(\"Bot:\", chat(\"Nipe details za laptop hii please\"))\n"
   ]
  },
  {
   "cell_type": "markdown",
   "id": "377e29b5",
   "metadata": {},
   "source": [
    "# Tokenizing E-commerce Dataset"
   ]
  },
  {
   "cell_type": "code",
   "execution_count": null,
   "id": "91e3f083",
   "metadata": {},
   "outputs": [],
   "source": [
    "#loading domain data\n",
    "\n",
    "df_ecom = pd.read_csv(\"/mnt/data/ecommerce_swahili_english_synthetic.csv\")\n",
    "print(df_ecom.head())\n",
    "print(df_ecom.dtypes)\n"
   ]
  },
  {
   "cell_type": "code",
   "execution_count": null,
   "id": "0286acb0",
   "metadata": {},
   "outputs": [],
   "source": [
    "# Loading my initial model\n",
    "\n",
    "from transformers import MT5ForConditionalGeneration, MT5Tokenizer\n",
    "\n",
    "model_path = \"./mt5_finetuned\"   # path to your general chatbot\n",
    "model = MT5ForConditionalGeneration.from_pretrained(model_path)\n",
    "tokenizer = MT5Tokenizer.from_pretrained(model_path)\n"
   ]
  },
  {
   "cell_type": "code",
   "execution_count": null,
   "id": "65d3a2bd",
   "metadata": {},
   "outputs": [],
   "source": [
    "# converting the e-commerce data to a hugging face dataaset\n",
    "\n",
    "\n",
    "df_ecom[\"prompt\"] = df_ecom[\"prompt\"].astype(str)\n",
    "df_ecom[\"response\"] = df_ecom[\"response\"].astype(str)\n",
    "\n",
    "dataset_ecom = Dataset.from_pandas(df_ecom)\n",
    "dataset_ecom = dataset_ecom.train_test_split(test_size=0.1)\n",
    "\n",
    "train_ecom = dataset_ecom[\"train\"]\n",
    "val_ecom = dataset_ecom[\"test\"]\n"
   ]
  },
  {
   "cell_type": "code",
   "execution_count": null,
   "id": "ad6cedf0",
   "metadata": {},
   "outputs": [],
   "source": [
    "#Tokenizing \n",
    "\n",
    "def preprocess(example):\n",
    "    prefix = \"chatbot response: \"\n",
    "    model_inputs = tokenizer(prefix + example[\"prompt\"], \n",
    "                             max_length=128, \n",
    "                             padding=\"max_length\", \n",
    "                             truncation=True)\n",
    "    labels = tokenizer(prefix + example[\"response\"], \n",
    "                       max_length=128, \n",
    "                       padding=\"max_length\", \n",
    "                       truncation=True)\n",
    "    model_inputs[\"labels\"] = labels[\"input_ids\"]\n",
    "    return model_inputs\n",
    "\n",
    "train_ecom = train_ecom.map(preprocess, batched=False)\n",
    "val_ecom = val_ecom.map(preprocess, batched=False)\n"
   ]
  },
  {
   "cell_type": "code",
   "execution_count": null,
   "id": "2273c1fd",
   "metadata": {},
   "outputs": [],
   "source": [
    "# Fine-tuning with domain data \n",
    "from transformers import Seq2SeqTrainingArguments, Seq2SeqTrainer, DataCollatorForSeq2Seq\n",
    "\n",
    "data_collator = DataCollatorForSeq2Seq(tokenizer=tokenizer, model=model)\n",
    "\n",
    "training_args = Seq2SeqTrainingArguments(\n",
    "    output_dir=\"./mt5_finetuned_ecommerce\",\n",
    "    evaluation_strategy=\"epoch\",\n",
    "    learning_rate=2e-4,\n",
    "    per_device_train_batch_size=4,\n",
    "    per_device_eval_batch_size=4,\n",
    "    weight_decay=0.01,\n",
    "    save_total_limit=2,\n",
    "    num_train_epochs=2,\n",
    "    predict_with_generate=True,\n",
    "    fp16=False,\n",
    "    logging_dir=\"./logs\",\n",
    "    logging_steps=100\n",
    ")\n",
    "\n",
    "trainer = Seq2SeqTrainer(\n",
    "    model=model,\n",
    "    args=training_args,\n",
    "    train_dataset=train_ecom,\n",
    "    eval_dataset=val_ecom,\n",
    "    processing_class=tokenizer,\n",
    "    data_collator=data_collator\n",
    ")\n",
    "\n",
    "trainer.train()\n"
   ]
  },
  {
   "cell_type": "code",
   "execution_count": null,
   "id": "b24e5296",
   "metadata": {},
   "outputs": [],
   "source": [
    "#Saving final Model\n",
    "\n",
    "trainer.save_model(\"./mt5_finetuned_ecommerce\")\n",
    "tokenizer.save_pretrained(\"./mt5_finetuned_ecommerce\")\n"
   ]
  },
  {
   "cell_type": "markdown",
   "id": "fdedf97f",
   "metadata": {},
   "source": [
    "# BLEU Evaluation"
   ]
  },
  {
   "cell_type": "code",
   "execution_count": null,
   "id": "30659867",
   "metadata": {},
   "outputs": [],
   "source": [
    "import sacrebleu\n",
    "from transformers import MT5ForConditionalGeneration, MT5Tokenizer\n",
    "import torch\n",
    "\n",
    "# Load your final fine-tuned model\n",
    "model_path = \"./mt5_finetuned_ecommerce\"\n",
    "model = MT5ForConditionalGeneration.from_pretrained(model_path)\n",
    "tokenizer = MT5Tokenizer.from_pretrained(model_path)\n",
    "\n",
    "# Generate predictions for validation set\n",
    "predictions = []\n",
    "references = []\n",
    "\n",
    "for example in val_ecom:\n",
    "    inputs = tokenizer(\"chatbot response: \" + example[\"prompt\"], return_tensors=\"pt\", truncation=True, padding=True)\n",
    "    \n",
    "    with torch.no_grad():\n",
    "        output_ids = model.generate(**inputs, max_length=64, num_beams=4, early_stopping=True)\n",
    "    \n",
    "    pred = tokenizer.decode(output_ids[0], skip_special_tokens=True)\n",
    "    \n",
    "    predictions.append(pred)\n",
    "    references.append(example[\"response\"])\n",
    "\n",
    "# Calculate BLEU\n",
    "bleu = sacrebleu.corpus_bleu(predictions, [references])\n",
    "print(f\"BLEU Score: {bleu.score:.2f}\")\n"
   ]
  },
  {
   "cell_type": "markdown",
   "id": "50173c26",
   "metadata": {},
   "source": [
    "# Gradio"
   ]
  },
  {
   "cell_type": "code",
   "execution_count": null,
   "id": "5ce861ca",
   "metadata": {},
   "outputs": [],
   "source": [
    "import gradio as gr\n",
    "\n",
    "def chatbot_fn(message):\n",
    "    inputs = tokenizer(\"chatbot response: \" + message, return_tensors=\"pt\", truncation=True, padding=True)\n",
    "    with torch.no_grad():\n",
    "        output_ids = model.generate(**inputs, max_length=64, num_beams=4, early_stopping=True)\n",
    "    return tokenizer.decode(output_ids[0], skip_special_tokens=True)\n",
    "\n",
    "demo = gr.Interface(fn=chatbot_fn, inputs=\"text\", outputs=\"text\", title=\"E-commerce Chatbot\")\n",
    "demo.launch()\n"
   ]
  }
 ],
 "metadata": {
  "kernelspec": {
   "display_name": "Learn-env2",
   "language": "python",
   "name": "python3"
  },
  "language_info": {
   "codemirror_mode": {
    "name": "ipython",
    "version": 3
   },
   "file_extension": ".py",
   "mimetype": "text/x-python",
   "name": "python",
   "nbconvert_exporter": "python",
   "pygments_lexer": "ipython3",
   "version": "3.11.9"
  }
 },
 "nbformat": 4,
 "nbformat_minor": 5
}
